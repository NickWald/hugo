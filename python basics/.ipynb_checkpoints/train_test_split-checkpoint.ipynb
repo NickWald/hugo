{
 "cells": [
  {
   "cell_type": "code",
   "execution_count": 7,
   "metadata": {},
   "outputs": [],
   "source": [
    "import numpy as np\n",
    "import pandas as pd"
   ]
  },
  {
   "cell_type": "code",
   "execution_count": 14,
   "metadata": {},
   "outputs": [],
   "source": [
    "data = pd.read_csv('/Users/nick/github/hugo/project/formula1_1950_2020/results.csv')"
   ]
  },
  {
   "cell_type": "markdown",
   "metadata": {},
   "source": [
    "As a small preparation, let's write a function that outputs several samples from the dataframes - a sample of 10 observations, a sample of 50 observations and a sample of 500 observations. When you implement the function you will see that you can create 3 sample dataframes in one shot. This is a wonderful property of Python. "
   ]
  },
  {
   "cell_type": "code",
   "execution_count": 27,
   "metadata": {},
   "outputs": [],
   "source": [
    "def sample_dfs(data, sample_size_S=10, sample_size_M=50, sample_size_L=500):\n",
    "    \n",
    "    \"\"\"\n",
    "    This function samples 3 times from a given data frame. \n",
    "    \n",
    "    Input: DataFrame\n",
    "    Output: DataFrames (3)\n",
    "    \n",
    "    \"\"\"\n",
    "    df_S = pd.DataFrame(data).sample(sample_size_S, random_state=1)\n",
    "    df_M = pd.DataFrame(data).sample(sample_size_M, random_state=1)\n",
    "    df_L = pd.DataFrame(data).sample(sample_size_L, random_state=1)\n",
    "    \n",
    "    return df_S, df_M, df_L"
   ]
  },
  {
   "cell_type": "markdown",
   "metadata": {},
   "source": [
    "Run the following code and make sure the function runs with no errors. You can explore three objects in detail to make sure they are what are expected of them to be. "
   ]
  },
  {
   "cell_type": "code",
   "execution_count": 28,
   "metadata": {},
   "outputs": [],
   "source": [
    "df_S, df_M, df_L = sample_dfs(data)\n",
    "\n",
    "assert df_S.shape[0] == 10\n",
    "assert df_M.shape[0] == 50\n",
    "assert df_L.shape[0] == 500"
   ]
  },
  {
   "cell_type": "markdown",
   "metadata": {},
   "source": [
    "We are moving to a machine learning part of the course. This short notebook is aimed to make a first introduction to **sklearn** library and solidify \"train-test\" split concept. "
   ]
  },
  {
   "cell_type": "markdown",
   "metadata": {},
   "source": [
    "First thing to notice is that the library is enormous. Therefore, it is split into several sub-libraries. You can import the whole library, which is not recommended, a sub-library, or a function. "
   ]
  },
  {
   "cell_type": "code",
   "execution_count": 29,
   "metadata": {},
   "outputs": [],
   "source": [
    "import sklearn"
   ]
  },
  {
   "cell_type": "code",
   "execution_count": 30,
   "metadata": {},
   "outputs": [],
   "source": [
    "from sklearn import model_selection"
   ]
  },
  {
   "cell_type": "code",
   "execution_count": 31,
   "metadata": {},
   "outputs": [],
   "source": [
    "from sklearn.model_selection import train_test_split"
   ]
  },
  {
   "cell_type": "markdown",
   "metadata": {},
   "source": [
    "It is generally a good practice to import only the functions you need. This approach also helps to reduce the amount of code you have to type. Compare below: "
   ]
  },
  {
   "cell_type": "code",
   "execution_count": 32,
   "metadata": {},
   "outputs": [],
   "source": [
    "#if you imported a library with 'import sklearn'\n",
    "split_long = sklearn.model_selection.train_test_split(np.array(np.random.choice(1000, 220)))"
   ]
  },
  {
   "cell_type": "code",
   "execution_count": 33,
   "metadata": {},
   "outputs": [],
   "source": [
    "#if you imported a function with 'from sklearn.model_selection import train_test_split'\n",
    "split_short = train_test_split(np.array(np.random.choice(1000, 220)))"
   ]
  },
  {
   "cell_type": "markdown",
   "metadata": {},
   "source": [
    "Now import the clean version of Kickstarter dataset and create a train-test split of the data. Your dependent variable is *state*. Your independent variables are *goal* and *backers*. Train-test split is *70/30*. Set random state to *22*. Assign the output of the function to 4 variables (the logic is the same as when you called **sample_dfs()** function above). Let the variable names be *X_train*, *X_test*, *y_train*, and *y_test*. Explore the output, make sure it makes sense to you in terms of dimensions, dependent and independent variables. Are the means of *goal*, and *backers* is train and test sets comparable?"
   ]
  },
  {
   "cell_type": "code",
   "execution_count": 34,
   "metadata": {},
   "outputs": [],
   "source": [
    "data2 = pd.read_csv('/Users/nick/github/hugo/python basics/data_cleaning/kickstarter_clean.csv')"
   ]
  },
  {
   "cell_type": "code",
   "execution_count": null,
   "metadata": {},
   "outputs": [],
   "source": [
    "#YOUR CODE GOES HERE"
   ]
  },
  {
   "cell_type": "code",
   "execution_count": null,
   "metadata": {},
   "outputs": [],
   "source": [
    "#YOUR CODE GOES HERE"
   ]
  },
  {
   "cell_type": "code",
   "execution_count": null,
   "metadata": {},
   "outputs": [],
   "source": [
    "#YOUR CODE GOES HERE"
   ]
  },
  {
   "cell_type": "code",
   "execution_count": null,
   "metadata": {},
   "outputs": [],
   "source": [
    "#YOUR CODE GOES HERE"
   ]
  },
  {
   "cell_type": "code",
   "execution_count": null,
   "metadata": {},
   "outputs": [],
   "source": [
    "#YOUR CODE GOES HERE"
   ]
  },
  {
   "cell_type": "code",
   "execution_count": null,
   "metadata": {},
   "outputs": [],
   "source": [
    "#YOUR CODE GOES HERE"
   ]
  },
  {
   "cell_type": "code",
   "execution_count": null,
   "metadata": {},
   "outputs": [],
   "source": [
    "#YOUR CODE GOES HERE"
   ]
  }
 ],
 "metadata": {
  "kernelspec": {
   "display_name": "Python 3",
   "language": "python",
   "name": "python3"
  },
  "language_info": {
   "codemirror_mode": {
    "name": "ipython",
    "version": 3
   },
   "file_extension": ".py",
   "mimetype": "text/x-python",
   "name": "python",
   "nbconvert_exporter": "python",
   "pygments_lexer": "ipython3",
   "version": "3.7.6"
  }
 },
 "nbformat": 4,
 "nbformat_minor": 4
}
