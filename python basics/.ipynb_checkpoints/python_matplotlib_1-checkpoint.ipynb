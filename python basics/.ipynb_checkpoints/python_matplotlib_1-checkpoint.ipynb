{
 "cells": [
  {
   "cell_type": "markdown",
   "metadata": {},
   "source": [
    "# Data Visualization with Matplotlib"
   ]
  },
  {
   "cell_type": "markdown",
   "metadata": {},
   "source": [
    "**Matplotlib** is one of the core libraries for data visualization in Python. You will use it to create and customize charts - line charts, bar charts, scatter plots, and histograms. "
   ]
  },
  {
   "cell_type": "markdown",
   "metadata": {},
   "source": [
    "## Import Libraries"
   ]
  },
  {
   "cell_type": "markdown",
   "metadata": {},
   "source": [
    "Note that **%matplotlib inline** line of code allows the visuals to render within your Jupyter Notebook."
   ]
  },
  {
   "cell_type": "code",
   "execution_count": 1,
   "metadata": {},
   "outputs": [],
   "source": [
    "import numpy as np\n",
    "import pandas as pd\n",
    "import random\n",
    "\n",
    "import matplotlib.pyplot as plt\n",
    "\n",
    "%matplotlib inline "
   ]
  },
  {
   "cell_type": "markdown",
   "metadata": {},
   "source": [
    "## Create charts"
   ]
  },
  {
   "cell_type": "markdown",
   "metadata": {},
   "source": [
    "Matplotlib accepts data structures you are familiar with. "
   ]
  },
  {
   "cell_type": "markdown",
   "metadata": {},
   "source": [
    "#### a) a list"
   ]
  },
  {
   "cell_type": "markdown",
   "metadata": {},
   "source": [
    "Let's first create a list of 10 random integers and let their values be in the range from 10 to 30. You can consider using **sample()** function from **random** library and base function **range()**. Feel free to come up with an alternative solution. Set the seed to **123** for reproducibility. "
   ]
  },
  {
   "cell_type": "code",
   "execution_count": null,
   "metadata": {},
   "outputs": [],
   "source": [
    "random.seed(123)\n",
    "random_numbers = random.sample(range(10, 30), 10)\n",
    "random_numbers"
   ]
  },
  {
   "cell_type": "markdown",
   "metadata": {},
   "source": [
    "Now let's plot the list of numbers with basic **plot** function of our matplotlib library. Just pass your list to the function as an argument."
   ]
  },
  {
   "cell_type": "code",
   "execution_count": null,
   "metadata": {},
   "outputs": [],
   "source": [
    "plt.plot(random_numbers)"
   ]
  },
  {
   "cell_type": "code",
   "execution_count": null,
   "metadata": {},
   "outputs": [],
   "source": [
    "plt.plot(random_numbers)\n",
    "plt.ylabel('\"random\" numbers')\n",
    "plt.show()"
   ]
  },
  {
   "cell_type": "markdown",
   "metadata": {},
   "source": [
    "**Try to put *;* at the end of your coding statement. What role does it play?**"
   ]
  },
  {
   "cell_type": "code",
   "execution_count": null,
   "metadata": {},
   "outputs": [],
   "source": [
    "plt.plot(random_numbers);"
   ]
  },
  {
   "cell_type": "markdown",
   "metadata": {},
   "source": [
    "Adding a semicolon removes the metadata attached to the graph, making it more presentable as a visualization"
   ]
  },
  {
   "cell_type": "markdown",
   "metadata": {},
   "source": [
    "**What are the values on the y-axes? on the x-axis?**"
   ]
  },
  {
   "cell_type": "markdown",
   "metadata": {},
   "source": [
    "It seems that the X axis displays indecies of the list, while the Y axis shows the values of the list"
   ]
  },
  {
   "cell_type": "markdown",
   "metadata": {},
   "source": [
    "You can control the numbers on x-axis as well. Assign a list of 10 consecutive integers starting with 100 to x variable, pass it as a first argument to **plot()** function. "
   ]
  },
  {
   "cell_type": "code",
   "execution_count": null,
   "metadata": {},
   "outputs": [],
   "source": [
    "x = list(range(100, 110))\n",
    "plt.plot(x, random_numbers);"
   ]
  },
  {
   "cell_type": "markdown",
   "metadata": {},
   "source": [
    "#### b) an array"
   ]
  },
  {
   "cell_type": "markdown",
   "metadata": {},
   "source": [
    "Now create the same chart using an array. To obtain an array, use the list you created above and **numpy** library.  "
   ]
  },
  {
   "cell_type": "code",
   "execution_count": null,
   "metadata": {},
   "outputs": [],
   "source": [
    "arr_nums = np.array(random_numbers)\n",
    "x = list(range(100, 110))\n",
    "plt.plot(x, arr_nums);"
   ]
  },
  {
   "cell_type": "markdown",
   "metadata": {},
   "source": [
    "#### c) pandas Series and DataFrame"
   ]
  },
  {
   "cell_type": "markdown",
   "metadata": {},
   "source": [
    "Now create the same chart using **pandas**. Try to convert your list to both series and data frame objects and plot the same graph."
   ]
  },
  {
   "cell_type": "code",
   "execution_count": null,
   "metadata": {},
   "outputs": [],
   "source": [
    "from pandas import DataFrame\n",
    "randDf = DataFrame(random_numbers,columns=['random #'])\n",
    "plt.plot(randDf);"
   ]
  },
  {
   "cell_type": "code",
   "execution_count": null,
   "metadata": {},
   "outputs": [],
   "source": [
    "randSer = pd.Series(random_numbers)\n",
    "plt.plot(randSer);"
   ]
  },
  {
   "cell_type": "markdown",
   "metadata": {},
   "source": [
    "## Add aesthetics"
   ]
  },
  {
   "cell_type": "markdown",
   "metadata": {},
   "source": [
    "#### a) add title "
   ]
  },
  {
   "cell_type": "markdown",
   "metadata": {},
   "source": [
    "Think layers when building charts with matplotlib. As an example, to add a title to your plot you can just add another line of code and use **title()** function, like so:\n",
    "\n",
    "* plt.plot(my_list)\n",
    "* plt.title('My First Plot')"
   ]
  },
  {
   "cell_type": "code",
   "execution_count": null,
   "metadata": {},
   "outputs": [],
   "source": [
    "plt.plot(arr_nums)\n",
    "plotTitle = plt.title('Random Numbers');"
   ]
  },
  {
   "cell_type": "markdown",
   "metadata": {},
   "source": [
    "You have control over text properties, see official documentation here:  https://matplotlib.org/users/text_props.html. Experiment with text properties of your title, come up with the style you like. Be sure to use *family*, *fontsize*, *loc*, and *color* arguments."
   ]
  },
  {
   "cell_type": "code",
   "execution_count": null,
   "metadata": {},
   "outputs": [],
   "source": [
    "plt.plot(random_numbers)\n",
    "plt.title('\"random\" numbers')\n",
    "plt.text(0, 10, 'array of random numbers',fontsize=8, family='monospace')\n",
    "plt.show()"
   ]
  },
  {
   "cell_type": "markdown",
   "metadata": {},
   "source": [
    "#### b) add axes labels"
   ]
  },
  {
   "cell_type": "markdown",
   "metadata": {},
   "source": [
    "Similarly, explore **xlabel()** and **ylabel()** functions and add those to your plot. "
   ]
  },
  {
   "cell_type": "code",
   "execution_count": null,
   "metadata": {},
   "outputs": [],
   "source": [
    "x = list(range(0, 10, 1))\n",
    "plt.plot(x, random_numbers)\n",
    "plt.title('\"random\" numbers')\n",
    "plt.text(0, 10, 'array of random numbers',fontsize=8, family='monospace')\n",
    "plt.xlabel('index')\n",
    "plt.ylabel('value')\n",
    "plt.show()"
   ]
  },
  {
   "cell_type": "markdown",
   "metadata": {},
   "source": [
    "Now, let's recap the basics. For that, create a dataset that contains the values from 0 to 50 in increments of 0.01 for the $x$ value, and $sin(x)$ for the $y$ value. You can use **arange()** and **sin()** function from **numpy** package. Include a title and labels for the $x$ and $y$ axis. Propose your version of the format of the text."
   ]
  },
  {
   "cell_type": "code",
   "execution_count": null,
   "metadata": {},
   "outputs": [],
   "source": [
    "values = np.arange(0,50,0.01)\n",
    "amplitude = np.sin(values)\n",
    "plt.plot(values, amplitude)"
   ]
  },
  {
   "cell_type": "markdown",
   "metadata": {},
   "source": [
    "#### c) add title gridlines"
   ]
  },
  {
   "cell_type": "markdown",
   "metadata": {},
   "source": [
    "You can add gridlines with **grid()** function from **matplotlib** library to your plot of the sine wave."
   ]
  },
  {
   "cell_type": "code",
   "execution_count": null,
   "metadata": {},
   "outputs": [],
   "source": [
    "values = np.arange(0,50,0.01)\n",
    "amplitude = np.sin(values)\n",
    "plt.title('sin wave')\n",
    "plt.plot(values, amplitude)\n",
    "plt.grid(color='#E9EBED', linestyle='-', linewidth=0.5)"
   ]
  },
  {
   "cell_type": "markdown",
   "metadata": {},
   "source": [
    "#### d) add ticks"
   ]
  },
  {
   "cell_type": "markdown",
   "metadata": {},
   "source": [
    "You can also control the location of the ticks with **xticks()** and **plt.yticks()** functions from **matplotlib** library. Force the ticks on the y-axis to be a vector of two values, including -1 and 1. Force the ticks on the x-axis to be a vector of three values, including 0, 25 and 50. "
   ]
  },
  {
   "cell_type": "code",
   "execution_count": null,
   "metadata": {},
   "outputs": [],
   "source": [
    "values = np.arange(0,50,0.01)\n",
    "amplitude = np.sin(values)\n",
    "plt.title('sin wave')\n",
    "plt.plot(values, amplitude)\n",
    "plt.grid(color='#E9EBED', linestyle='-', linewidth=0.5)\n",
    "plt.xticks(np.arange(0, 51, 25));\n",
    "plt.yticks([-1, 1]);"
   ]
  },
  {
   "cell_type": "markdown",
   "metadata": {},
   "source": [
    "Now, let's add some strings as ticks. On the $y$-axis let's keep two ticks we got, but let's label them **'top'** and **'bottom'** instead. To figure out how to do that see the documentation of the function."
   ]
  },
  {
   "cell_type": "code",
   "execution_count": null,
   "metadata": {},
   "outputs": [],
   "source": [
    "values = np.arange(0,50,0.01)\n",
    "amplitude = np.sin(values)\n",
    "plt.title('sin wave')\n",
    "plt.plot(values, amplitude)\n",
    "plt.grid(color='#E9EBED', linestyle='-', linewidth=0.5)\n",
    "plt.xticks(np.arange(0, 51, 25))\n",
    "plt.yticks([-1, 1], ['Top', 'Bottom']);"
   ]
  },
  {
   "cell_type": "markdown",
   "metadata": {},
   "source": [
    "#### e) add more lines"
   ]
  },
  {
   "cell_type": "markdown",
   "metadata": {},
   "source": [
    "Think layers again! Add a cosine wave to your plot. To do that you can use a **plot()** function several times. Make sure you rename the plot appropriately! "
   ]
  },
  {
   "cell_type": "code",
   "execution_count": null,
   "metadata": {},
   "outputs": [],
   "source": [
    "values = np.arange(0,50,0.01)\n",
    "amplitude = np.sin(values)\n",
    "cosVals = np.cos(values)\n",
    "plt.plot(values, amplitude)\n",
    "plt.plot(values, cosVals)\n",
    "plt.grid(color='#E9EBED', linestyle='-', linewidth=0.5)\n",
    "plt.xticks(np.arange(0, 51, 25))\n",
    "plt.yticks([-1, 1], ['Top', 'Bottom']);"
   ]
  },
  {
   "cell_type": "markdown",
   "metadata": {},
   "source": [
    "Python and **Matplotlib** took care of coloring for you. But we need to make sure it is clear what color represents which of the two waves. To achieve this, let's use **legend()** function from **matplotlib**. What is the best spot for the legend in your opinion?"
   ]
  },
  {
   "cell_type": "code",
   "execution_count": null,
   "metadata": {},
   "outputs": [],
   "source": [
    "values = np.arange(0,50,0.01)\n",
    "amplitude = np.sin(values)\n",
    "cosVals = np.cos(values)\n",
    "plt.plot(values, amplitude,'-b', label='sine')\n",
    "plt.plot(values, cosVals, '-r', label='cosine')\n",
    "plt.grid(color='#E9EBED', linestyle='-', linewidth=0.5)\n",
    "plt.xticks(np.arange(0, 51, 25))\n",
    "plt.yticks([-1, 1], ['Top', 'Bottom']);\n",
    "plt.legend(loc=\"upper left\")"
   ]
  },
  {
   "cell_type": "markdown",
   "metadata": {},
   "source": [
    "#### f) control colors"
   ]
  },
  {
   "cell_type": "markdown",
   "metadata": {},
   "source": [
    "You can declare a color:\n",
    "* by name (https://matplotlib.org/api/_as_gen/matplotlib.pyplot.colors.html),\n",
    "* by alias (https://www.w3schools.com/cssref/css_colors.asp), or \n",
    "* by RGB color code. \n",
    "\n",
    "Let's output our sine wave in magenta color and out cosine wave in cyan."
   ]
  },
  {
   "cell_type": "code",
   "execution_count": null,
   "metadata": {},
   "outputs": [],
   "source": [
    "values = np.arange(0,50,0.01)\n",
    "amplitude = np.sin(values)\n",
    "cosVals = np.cos(values)\n",
    "plt.plot(values, amplitude,'-m', label='sine')\n",
    "plt.plot(values, cosVals, '-c', label='cosine')\n",
    "plt.grid(color='#E9EBED', linestyle='-', linewidth=0.5)\n",
    "plt.xticks(np.arange(0, 51, 25))\n",
    "plt.yticks([-1, 1], ['Top', 'Bottom']);\n",
    "plt.legend(loc=\"upper left\")"
   ]
  },
  {
   "cell_type": "markdown",
   "metadata": {},
   "source": [
    "#### g) control line width"
   ]
  },
  {
   "cell_type": "markdown",
   "metadata": {},
   "source": [
    "Use *linewidth* parameter for that. Let's make our sine wave noticeably thicker than the cosine one."
   ]
  },
  {
   "cell_type": "code",
   "execution_count": null,
   "metadata": {},
   "outputs": [],
   "source": [
    "values = np.arange(0,50,0.01)\n",
    "amplitude = np.sin(values)\n",
    "cosVals = np.cos(values)\n",
    "plt.plot(values, amplitude,'-m', label='sine', linewidth=4)\n",
    "plt.plot(values, cosVals, '-c', label='cosine', linewidth=1)\n",
    "plt.grid(color='#E9EBED', linestyle='-', linewidth=0.5)\n",
    "plt.xticks(np.arange(0, 51, 25))\n",
    "plt.yticks([-1, 1], ['Top', 'Bottom']);\n",
    "plt.legend(loc=\"upper left\")"
   ]
  },
  {
   "cell_type": "markdown",
   "metadata": {},
   "source": [
    "#### h) control line style"
   ]
  },
  {
   "cell_type": "markdown",
   "metadata": {},
   "source": [
    "Finally, lines do not have to be solid. You can control the visualization with a *linestyle* parameter.  Find out more here https://matplotlib.org/gallery/lines_bars_and_markers/line_styles_reference.html. Let's make your sine wave dashed. "
   ]
  },
  {
   "cell_type": "code",
   "execution_count": null,
   "metadata": {},
   "outputs": [],
   "source": [
    "values = np.arange(0,50,0.01)\n",
    "amplitude = np.sin(values)\n",
    "cosVals = np.cos(values)\n",
    "plt.plot(values, amplitude,'-m', label='sine', linewidth=4, linestyle='--')\n",
    "plt.plot(values, cosVals, '-c', label='cosine', linewidth=1)\n",
    "plt.grid(color='#E9EBED', linestyle='-', linewidth=0.5)\n",
    "plt.xticks(np.arange(0, 51, 25))\n",
    "plt.yticks([-1, 1], ['Top', 'Bottom']);\n",
    "plt.legend(loc=\"upper left\")"
   ]
  },
  {
   "cell_type": "markdown",
   "metadata": {},
   "source": [
    "## Types of Charts"
   ]
  },
  {
   "cell_type": "markdown",
   "metadata": {},
   "source": [
    "Let's cover the basics using a real dataset. Create a data frame from **Kickstarter** .csv file. Use the clean file that you wrote to your working directory after cleaning. Feel free to use **pandas** functions to see the data when you need it.  "
   ]
  },
  {
   "cell_type": "code",
   "execution_count": 20,
   "metadata": {},
   "outputs": [
    {
     "data": {
      "text/html": [
       "<div>\n",
       "<style scoped>\n",
       "    .dataframe tbody tr th:only-of-type {\n",
       "        vertical-align: middle;\n",
       "    }\n",
       "\n",
       "    .dataframe tbody tr th {\n",
       "        vertical-align: top;\n",
       "    }\n",
       "\n",
       "    .dataframe thead th {\n",
       "        text-align: right;\n",
       "    }\n",
       "</style>\n",
       "<table border=\"1\" class=\"dataframe\">\n",
       "  <thead>\n",
       "    <tr style=\"text-align: right;\">\n",
       "      <th></th>\n",
       "      <th>Unnamed: 0</th>\n",
       "      <th>Unnamed: 0.1</th>\n",
       "      <th>ID</th>\n",
       "      <th>name</th>\n",
       "      <th>category</th>\n",
       "      <th>main_category</th>\n",
       "      <th>currency</th>\n",
       "      <th>deadline</th>\n",
       "      <th>goal</th>\n",
       "      <th>launched</th>\n",
       "      <th>pledged</th>\n",
       "      <th>state</th>\n",
       "      <th>backers</th>\n",
       "      <th>country</th>\n",
       "      <th>usd.pledged</th>\n",
       "      <th>campaign_duration</th>\n",
       "    </tr>\n",
       "  </thead>\n",
       "  <tbody>\n",
       "    <tr>\n",
       "      <th>0</th>\n",
       "      <td>0</td>\n",
       "      <td>1</td>\n",
       "      <td>239894312</td>\n",
       "      <td>Barwagen</td>\n",
       "      <td>Woodworking</td>\n",
       "      <td>Crafts</td>\n",
       "      <td>CHF</td>\n",
       "      <td>2017-11-30 00:00:00</td>\n",
       "      <td>500.0</td>\n",
       "      <td>2017-10-23 19:32:00</td>\n",
       "      <td>15.00</td>\n",
       "      <td>failed</td>\n",
       "      <td>2.0</td>\n",
       "      <td>CH</td>\n",
       "      <td>0.00</td>\n",
       "      <td>37</td>\n",
       "    </tr>\n",
       "    <tr>\n",
       "      <th>1</th>\n",
       "      <td>1</td>\n",
       "      <td>2</td>\n",
       "      <td>353169821</td>\n",
       "      <td>StrongMACH Customs muscle car replicas</td>\n",
       "      <td>Art</td>\n",
       "      <td>Art</td>\n",
       "      <td>USD</td>\n",
       "      <td>2016-10-03 00:00:00</td>\n",
       "      <td>100000.0</td>\n",
       "      <td>2016-08-04 18:29:00</td>\n",
       "      <td>0.00</td>\n",
       "      <td>failed</td>\n",
       "      <td>0.0</td>\n",
       "      <td>US</td>\n",
       "      <td>0.00</td>\n",
       "      <td>59</td>\n",
       "    </tr>\n",
       "    <tr>\n",
       "      <th>2</th>\n",
       "      <td>2</td>\n",
       "      <td>3</td>\n",
       "      <td>1387928487</td>\n",
       "      <td>Cravin' Dogs 30th anniversary CD project</td>\n",
       "      <td>Rock</td>\n",
       "      <td>Music</td>\n",
       "      <td>USD</td>\n",
       "      <td>2016-10-27 00:00:00</td>\n",
       "      <td>12500.0</td>\n",
       "      <td>2016-09-27 16:40:00</td>\n",
       "      <td>1180.00</td>\n",
       "      <td>failed</td>\n",
       "      <td>18.0</td>\n",
       "      <td>US</td>\n",
       "      <td>531.00</td>\n",
       "      <td>29</td>\n",
       "    </tr>\n",
       "    <tr>\n",
       "      <th>3</th>\n",
       "      <td>3</td>\n",
       "      <td>4</td>\n",
       "      <td>735160267</td>\n",
       "      <td>A Socially Awkward fundraiser!</td>\n",
       "      <td>Plays</td>\n",
       "      <td>Theater</td>\n",
       "      <td>GBP</td>\n",
       "      <td>2017-09-14 00:00:00</td>\n",
       "      <td>1500.0</td>\n",
       "      <td>2017-07-16 16:33:00</td>\n",
       "      <td>1500.00</td>\n",
       "      <td>successful</td>\n",
       "      <td>42.0</td>\n",
       "      <td>GB</td>\n",
       "      <td>144.05</td>\n",
       "      <td>59</td>\n",
       "    </tr>\n",
       "    <tr>\n",
       "      <th>4</th>\n",
       "      <td>4</td>\n",
       "      <td>5</td>\n",
       "      <td>1838469271</td>\n",
       "      <td>MechRunner</td>\n",
       "      <td>Video Games</td>\n",
       "      <td>Games</td>\n",
       "      <td>USD</td>\n",
       "      <td>2014-05-17 00:00:00</td>\n",
       "      <td>25000.0</td>\n",
       "      <td>2014-04-13 20:57:00</td>\n",
       "      <td>28434.00</td>\n",
       "      <td>successful</td>\n",
       "      <td>574.0</td>\n",
       "      <td>US</td>\n",
       "      <td>28434.00</td>\n",
       "      <td>33</td>\n",
       "    </tr>\n",
       "    <tr>\n",
       "      <th>...</th>\n",
       "      <td>...</td>\n",
       "      <td>...</td>\n",
       "      <td>...</td>\n",
       "      <td>...</td>\n",
       "      <td>...</td>\n",
       "      <td>...</td>\n",
       "      <td>...</td>\n",
       "      <td>...</td>\n",
       "      <td>...</td>\n",
       "      <td>...</td>\n",
       "      <td>...</td>\n",
       "      <td>...</td>\n",
       "      <td>...</td>\n",
       "      <td>...</td>\n",
       "      <td>...</td>\n",
       "      <td>...</td>\n",
       "    </tr>\n",
       "    <tr>\n",
       "      <th>1995</th>\n",
       "      <td>1995</td>\n",
       "      <td>1996</td>\n",
       "      <td>2135501127</td>\n",
       "      <td>\"Visionary\" Festival Fees</td>\n",
       "      <td>Narrative Film</td>\n",
       "      <td>Film &amp; Video</td>\n",
       "      <td>USD</td>\n",
       "      <td>2011-10-23 00:00:00</td>\n",
       "      <td>1000.0</td>\n",
       "      <td>2011-10-03 04:35:00</td>\n",
       "      <td>1002.69</td>\n",
       "      <td>successful</td>\n",
       "      <td>27.0</td>\n",
       "      <td>US</td>\n",
       "      <td>1002.69</td>\n",
       "      <td>19</td>\n",
       "    </tr>\n",
       "    <tr>\n",
       "      <th>1996</th>\n",
       "      <td>1996</td>\n",
       "      <td>1997</td>\n",
       "      <td>1809342360</td>\n",
       "      <td>Hard Exit Comic -  Graphic Content</td>\n",
       "      <td>Comics</td>\n",
       "      <td>Comics</td>\n",
       "      <td>CAD</td>\n",
       "      <td>2015-06-20 00:00:00</td>\n",
       "      <td>1250.0</td>\n",
       "      <td>2015-06-03 04:08:00</td>\n",
       "      <td>3918.00</td>\n",
       "      <td>successful</td>\n",
       "      <td>87.0</td>\n",
       "      <td>CA</td>\n",
       "      <td>3144.85</td>\n",
       "      <td>16</td>\n",
       "    </tr>\n",
       "    <tr>\n",
       "      <th>1997</th>\n",
       "      <td>1997</td>\n",
       "      <td>1998</td>\n",
       "      <td>2106842476</td>\n",
       "      <td>Buddy Watch App- Smart Personal Safety on Your...</td>\n",
       "      <td>Apps</td>\n",
       "      <td>Technology</td>\n",
       "      <td>USD</td>\n",
       "      <td>2015-09-19 00:00:00</td>\n",
       "      <td>25000.0</td>\n",
       "      <td>2015-08-20 17:16:00</td>\n",
       "      <td>2449.00</td>\n",
       "      <td>failed</td>\n",
       "      <td>63.0</td>\n",
       "      <td>US</td>\n",
       "      <td>2449.00</td>\n",
       "      <td>29</td>\n",
       "    </tr>\n",
       "    <tr>\n",
       "      <th>1998</th>\n",
       "      <td>1998</td>\n",
       "      <td>1999</td>\n",
       "      <td>1787382691</td>\n",
       "      <td>Pfrtubee clothing</td>\n",
       "      <td>Fashion</td>\n",
       "      <td>Fashion</td>\n",
       "      <td>GBP</td>\n",
       "      <td>2014-06-26 00:00:00</td>\n",
       "      <td>7000.0</td>\n",
       "      <td>2014-05-27 11:02:00</td>\n",
       "      <td>40.00</td>\n",
       "      <td>failed</td>\n",
       "      <td>2.0</td>\n",
       "      <td>GB</td>\n",
       "      <td>67.40</td>\n",
       "      <td>29</td>\n",
       "    </tr>\n",
       "    <tr>\n",
       "      <th>1999</th>\n",
       "      <td>1999</td>\n",
       "      <td>2000</td>\n",
       "      <td>681428949</td>\n",
       "      <td>Halloween Horror Soundtrack music Gaming, Yout...</td>\n",
       "      <td>Music</td>\n",
       "      <td>Music</td>\n",
       "      <td>GBP</td>\n",
       "      <td>2015-10-31 00:00:00</td>\n",
       "      <td>500.0</td>\n",
       "      <td>2015-10-18 02:27:00</td>\n",
       "      <td>239.00</td>\n",
       "      <td>failed</td>\n",
       "      <td>12.0</td>\n",
       "      <td>GB</td>\n",
       "      <td>369.71</td>\n",
       "      <td>12</td>\n",
       "    </tr>\n",
       "  </tbody>\n",
       "</table>\n",
       "<p>2000 rows × 16 columns</p>\n",
       "</div>"
      ],
      "text/plain": [
       "      Unnamed: 0  Unnamed: 0.1          ID  \\\n",
       "0              0             1   239894312   \n",
       "1              1             2   353169821   \n",
       "2              2             3  1387928487   \n",
       "3              3             4   735160267   \n",
       "4              4             5  1838469271   \n",
       "...          ...           ...         ...   \n",
       "1995        1995          1996  2135501127   \n",
       "1996        1996          1997  1809342360   \n",
       "1997        1997          1998  2106842476   \n",
       "1998        1998          1999  1787382691   \n",
       "1999        1999          2000   681428949   \n",
       "\n",
       "                                                   name        category  \\\n",
       "0                                              Barwagen     Woodworking   \n",
       "1                StrongMACH Customs muscle car replicas             Art   \n",
       "2              Cravin' Dogs 30th anniversary CD project            Rock   \n",
       "3                        A Socially Awkward fundraiser!           Plays   \n",
       "4                                            MechRunner     Video Games   \n",
       "...                                                 ...             ...   \n",
       "1995                          \"Visionary\" Festival Fees  Narrative Film   \n",
       "1996                 Hard Exit Comic -  Graphic Content          Comics   \n",
       "1997  Buddy Watch App- Smart Personal Safety on Your...            Apps   \n",
       "1998                                  Pfrtubee clothing         Fashion   \n",
       "1999  Halloween Horror Soundtrack music Gaming, Yout...           Music   \n",
       "\n",
       "     main_category currency             deadline      goal  \\\n",
       "0           Crafts      CHF  2017-11-30 00:00:00     500.0   \n",
       "1              Art      USD  2016-10-03 00:00:00  100000.0   \n",
       "2            Music      USD  2016-10-27 00:00:00   12500.0   \n",
       "3          Theater      GBP  2017-09-14 00:00:00    1500.0   \n",
       "4            Games      USD  2014-05-17 00:00:00   25000.0   \n",
       "...            ...      ...                  ...       ...   \n",
       "1995  Film & Video      USD  2011-10-23 00:00:00    1000.0   \n",
       "1996        Comics      CAD  2015-06-20 00:00:00    1250.0   \n",
       "1997    Technology      USD  2015-09-19 00:00:00   25000.0   \n",
       "1998       Fashion      GBP  2014-06-26 00:00:00    7000.0   \n",
       "1999         Music      GBP  2015-10-31 00:00:00     500.0   \n",
       "\n",
       "                 launched   pledged       state  backers country  usd.pledged  \\\n",
       "0     2017-10-23 19:32:00     15.00      failed      2.0      CH         0.00   \n",
       "1     2016-08-04 18:29:00      0.00      failed      0.0      US         0.00   \n",
       "2     2016-09-27 16:40:00   1180.00      failed     18.0      US       531.00   \n",
       "3     2017-07-16 16:33:00   1500.00  successful     42.0      GB       144.05   \n",
       "4     2014-04-13 20:57:00  28434.00  successful    574.0      US     28434.00   \n",
       "...                   ...       ...         ...      ...     ...          ...   \n",
       "1995  2011-10-03 04:35:00   1002.69  successful     27.0      US      1002.69   \n",
       "1996  2015-06-03 04:08:00   3918.00  successful     87.0      CA      3144.85   \n",
       "1997  2015-08-20 17:16:00   2449.00      failed     63.0      US      2449.00   \n",
       "1998  2014-05-27 11:02:00     40.00      failed      2.0      GB        67.40   \n",
       "1999  2015-10-18 02:27:00    239.00      failed     12.0      GB       369.71   \n",
       "\n",
       "      campaign_duration  \n",
       "0                    37  \n",
       "1                    59  \n",
       "2                    29  \n",
       "3                    59  \n",
       "4                    33  \n",
       "...                 ...  \n",
       "1995                 19  \n",
       "1996                 16  \n",
       "1997                 29  \n",
       "1998                 29  \n",
       "1999                 12  \n",
       "\n",
       "[2000 rows x 16 columns]"
      ]
     },
     "execution_count": 20,
     "metadata": {},
     "output_type": "execute_result"
    }
   ],
   "source": [
    "from pandas import DataFrame\n",
    "kData = pd.read_csv('data_cleaning/kickstarter_clean.csv')\n",
    "kData"
   ]
  },
  {
   "cell_type": "code",
   "execution_count": 26,
   "metadata": {},
   "outputs": [],
   "source": [
    "kData.sort_values(by = 'launched', inplace = True)"
   ]
  },
  {
   "cell_type": "code",
   "execution_count": 21,
   "metadata": {},
   "outputs": [
    {
     "name": "stdout",
     "output_type": "stream",
     "text": [
      "<class 'pandas.core.frame.DataFrame'>\n",
      "RangeIndex: 2000 entries, 0 to 1999\n",
      "Data columns (total 16 columns):\n",
      " #   Column             Non-Null Count  Dtype         \n",
      "---  ------             --------------  -----         \n",
      " 0   Unnamed: 0         2000 non-null   int64         \n",
      " 1   Unnamed: 0.1       2000 non-null   int64         \n",
      " 2   ID                 2000 non-null   int64         \n",
      " 3   name               2000 non-null   object        \n",
      " 4   category           2000 non-null   object        \n",
      " 5   main_category      2000 non-null   object        \n",
      " 6   currency           2000 non-null   object        \n",
      " 7   deadline           2000 non-null   object        \n",
      " 8   goal               2000 non-null   float64       \n",
      " 9   launched           2000 non-null   datetime64[ns]\n",
      " 10  pledged            2000 non-null   float64       \n",
      " 11  state              2000 non-null   object        \n",
      " 12  backers            2000 non-null   float64       \n",
      " 13  country            2000 non-null   object        \n",
      " 14  usd.pledged        2000 non-null   float64       \n",
      " 15  campaign_duration  2000 non-null   int64         \n",
      "dtypes: datetime64[ns](1), float64(4), int64(4), object(7)\n",
      "memory usage: 250.1+ KB\n"
     ]
    }
   ],
   "source": [
    "kData['launched'] = pd.to_datetime(kData['launched'])\n",
    "kData.info()"
   ]
  },
  {
   "cell_type": "markdown",
   "metadata": {},
   "source": [
    "#### a) line charts"
   ]
  },
  {
   "cell_type": "markdown",
   "metadata": {},
   "source": [
    "This one you know already. Plot revenue goals. "
   ]
  },
  {
   "cell_type": "code",
   "execution_count": 11,
   "metadata": {},
   "outputs": [
    {
     "data": {
      "text/plain": [
       "[<matplotlib.lines.Line2D at 0x7fa474fdda50>]"
      ]
     },
     "execution_count": 11,
     "metadata": {},
     "output_type": "execute_result"
    },
    {
     "data": {
      "image/png": "[encoded data removed]",
      "text/plain": [
       "<Figure size 432x288 with 1 Axes>"
      ]
     },
     "metadata": {
      "needs_background": "light"
     },
     "output_type": "display_data"
    }
   ],
   "source": [
    "values = kData['goal']\n",
    "plt.plot(values)"
   ]
  },
  {
   "cell_type": "markdown",
   "metadata": {},
   "source": [
    "Nice. What do values on the x-axis represent? Now, there is an additional challenge for you. Try to plot revenue goals over time the campaigns were launched. Think what kind of familiar **pandas** functions you can use to make it look right."
   ]
  },
  {
   "cell_type": "code",
   "execution_count": 27,
   "metadata": {},
   "outputs": [
    {
     "data": {
      "text/plain": [
       "[<matplotlib.lines.Line2D at 0x7fa45a407a10>]"
      ]
     },
     "execution_count": 27,
     "metadata": {},
     "output_type": "execute_result"
    },
    {
     "data": {
      "image/png": "[encoded data removed]",
      "text/plain": [
       "<Figure size 432x288 with 1 Axes>"
      ]
     },
     "metadata": {
      "needs_background": "light"
     },
     "output_type": "display_data"
    }
   ],
   "source": [
    "values = kData['goal']\n",
    "date = kData['launched']\n",
    "plt.plot(date, values)"
   ]
  },
  {
   "cell_type": "markdown",
   "metadata": {},
   "source": [
    "#### b) bar charts"
   ]
  },
  {
   "cell_type": "markdown",
   "metadata": {},
   "source": [
    "Use **bar()** function to see the counts of observations by state. "
   ]
  },
  {
   "cell_type": "code",
   "execution_count": 28,
   "metadata": {},
   "outputs": [
    {
     "ename": "TypeError",
     "evalue": "bar() missing 1 required positional argument: 'height'",
     "output_type": "error",
     "traceback": [
      "\u001b[0;31m---------------------------------------------------------------------------\u001b[0m",
      "\u001b[0;31mTypeError\u001b[0m                                 Traceback (most recent call last)",
      "\u001b[0;32m<ipython-input-28-b5d460349bd7>\u001b[0m in \u001b[0;36m<module>\u001b[0;34m\u001b[0m\n\u001b[1;32m      1\u001b[0m \u001b[0mstate\u001b[0m \u001b[0;34m=\u001b[0m \u001b[0mkData\u001b[0m\u001b[0;34m[\u001b[0m\u001b[0;34m'state'\u001b[0m\u001b[0;34m]\u001b[0m\u001b[0;34m\u001b[0m\u001b[0;34m\u001b[0m\u001b[0m\n\u001b[0;32m----> 2\u001b[0;31m \u001b[0mplt\u001b[0m\u001b[0;34m.\u001b[0m\u001b[0mbar\u001b[0m\u001b[0;34m(\u001b[0m\u001b[0mstate\u001b[0m\u001b[0;34m)\u001b[0m\u001b[0;34m\u001b[0m\u001b[0;34m\u001b[0m\u001b[0m\n\u001b[0m",
      "\u001b[0;31mTypeError\u001b[0m: bar() missing 1 required positional argument: 'height'"
     ]
    }
   ],
   "source": [
    "state = kData['state']\n",
    "plt.bar(x, height, state)"
   ]
  },
  {
   "cell_type": "markdown",
   "metadata": {},
   "source": [
    "To make it more readable, let's convert it to horizontal bar chart. For that let's use **barh()** function."
   ]
  },
  {
   "cell_type": "code",
   "execution_count": null,
   "metadata": {},
   "outputs": [],
   "source": [
    "# YOUR CODE GOES HERE"
   ]
  },
  {
   "cell_type": "markdown",
   "metadata": {},
   "source": [
    "This is better. Did you notice that it takes a second to render a graph? To speed it up we can create a summary table before trying to plot the graph. It will be also easy to sort it then. Don't worry about the code to create a summary table for now. The only thing: adjust the name of your data frame if necessary. Just print it out and see if it makes sense to you.  "
   ]
  },
  {
   "cell_type": "code",
   "execution_count": 34,
   "metadata": {},
   "outputs": [
    {
     "data": {
      "text/html": [
       "<div>\n",
       "<style scoped>\n",
       "    .dataframe tbody tr th:only-of-type {\n",
       "        vertical-align: middle;\n",
       "    }\n",
       "\n",
       "    .dataframe tbody tr th {\n",
       "        vertical-align: top;\n",
       "    }\n",
       "\n",
       "    .dataframe thead th {\n",
       "        text-align: right;\n",
       "    }\n",
       "</style>\n",
       "<table border=\"1\" class=\"dataframe\">\n",
       "  <thead>\n",
       "    <tr style=\"text-align: right;\">\n",
       "      <th></th>\n",
       "      <th>main_category</th>\n",
       "      <th>goal</th>\n",
       "    </tr>\n",
       "  </thead>\n",
       "  <tbody>\n",
       "    <tr>\n",
       "      <th>0</th>\n",
       "      <td>Dance</td>\n",
       "      <td>5573.333333</td>\n",
       "    </tr>\n",
       "    <tr>\n",
       "      <th>1</th>\n",
       "      <td>Theater</td>\n",
       "      <td>8155.949367</td>\n",
       "    </tr>\n",
       "    <tr>\n",
       "      <th>2</th>\n",
       "      <td>Comics</td>\n",
       "      <td>8702.869787</td>\n",
       "    </tr>\n",
       "    <tr>\n",
       "      <th>3</th>\n",
       "      <td>Photography</td>\n",
       "      <td>10301.957447</td>\n",
       "    </tr>\n",
       "    <tr>\n",
       "      <th>4</th>\n",
       "      <td>Publishing</td>\n",
       "      <td>11215.268631</td>\n",
       "    </tr>\n",
       "    <tr>\n",
       "      <th>5</th>\n",
       "      <td>Music</td>\n",
       "      <td>12664.183573</td>\n",
       "    </tr>\n",
       "    <tr>\n",
       "      <th>6</th>\n",
       "      <td>Crafts</td>\n",
       "      <td>12916.701975</td>\n",
       "    </tr>\n",
       "    <tr>\n",
       "      <th>7</th>\n",
       "      <td>Journalism</td>\n",
       "      <td>13261.504937</td>\n",
       "    </tr>\n",
       "    <tr>\n",
       "      <th>8</th>\n",
       "      <td>Fashion</td>\n",
       "      <td>17431.849569</td>\n",
       "    </tr>\n",
       "    <tr>\n",
       "      <th>9</th>\n",
       "      <td>Design</td>\n",
       "      <td>21317.472973</td>\n",
       "    </tr>\n",
       "    <tr>\n",
       "      <th>10</th>\n",
       "      <td>Art</td>\n",
       "      <td>21750.733333</td>\n",
       "    </tr>\n",
       "    <tr>\n",
       "      <th>11</th>\n",
       "      <td>Film &amp; Video</td>\n",
       "      <td>28445.618364</td>\n",
       "    </tr>\n",
       "    <tr>\n",
       "      <th>12</th>\n",
       "      <td>Games</td>\n",
       "      <td>32460.438372</td>\n",
       "    </tr>\n",
       "    <tr>\n",
       "      <th>13</th>\n",
       "      <td>Food</td>\n",
       "      <td>35889.706984</td>\n",
       "    </tr>\n",
       "    <tr>\n",
       "      <th>14</th>\n",
       "      <td>Technology</td>\n",
       "      <td>56562.011834</td>\n",
       "    </tr>\n",
       "  </tbody>\n",
       "</table>\n",
       "</div>"
      ],
      "text/plain": [
       "   main_category          goal\n",
       "0          Dance   5573.333333\n",
       "1        Theater   8155.949367\n",
       "2         Comics   8702.869787\n",
       "3    Photography  10301.957447\n",
       "4     Publishing  11215.268631\n",
       "5          Music  12664.183573\n",
       "6         Crafts  12916.701975\n",
       "7     Journalism  13261.504937\n",
       "8        Fashion  17431.849569\n",
       "9         Design  21317.472973\n",
       "10           Art  21750.733333\n",
       "11  Film & Video  28445.618364\n",
       "12         Games  32460.438372\n",
       "13          Food  35889.706984\n",
       "14    Technology  56562.011834"
      ]
     },
     "execution_count": 34,
     "metadata": {},
     "output_type": "execute_result"
    }
   ],
   "source": [
    "summary = kData.groupby(['main_category'])[['goal']].mean().sort_values(by='goal', ascending=True).reset_index()\n",
    "summary"
   ]
  },
  {
   "cell_type": "markdown",
   "metadata": {},
   "source": [
    "Now, plot the same graph, but use the **'summary'** data frame."
   ]
  },
  {
   "cell_type": "code",
   "execution_count": 38,
   "metadata": {},
   "outputs": [
    {
     "data": {
      "text/plain": [
       "<BarContainer object of 15 artists>"
      ]
     },
     "execution_count": 38,
     "metadata": {},
     "output_type": "execute_result"
    },
    {
     "data": {
      "image/png": "[encoded data removed]",
      "text/plain": [
       "<Figure size 432x288 with 1 Axes>"
      ]
     },
     "metadata": {
      "needs_background": "light"
     },
     "output_type": "display_data"
    }
   ],
   "source": [
    "plt.barh(y = summary['main_category'], width = summary['goal'])"
   ]
  },
  {
   "cell_type": "markdown",
   "metadata": {},
   "source": [
    "#### c) scatterplots"
   ]
  },
  {
   "cell_type": "markdown",
   "metadata": {},
   "source": [
    "Use **scatter()** function to plot the relationships between number of backers and amount of revenue pledged."
   ]
  },
  {
   "cell_type": "code",
   "execution_count": null,
   "metadata": {},
   "outputs": [],
   "source": [
    "# YOUR CODE GOES HERE"
   ]
  },
  {
   "cell_type": "markdown",
   "metadata": {},
   "source": [
    "To make the relationship more visible, let's transform both variables with **log()** function from **numpy** library. "
   ]
  },
  {
   "cell_type": "code",
   "execution_count": null,
   "metadata": {},
   "outputs": [],
   "source": [
    "# YOUR CODE GOES HERE"
   ]
  },
  {
   "cell_type": "markdown",
   "metadata": {},
   "source": [
    "How can you describe the relationship?"
   ]
  },
  {
   "cell_type": "code",
   "execution_count": null,
   "metadata": {},
   "outputs": [],
   "source": [
    "Type your answer here"
   ]
  },
  {
   "cell_type": "markdown",
   "metadata": {},
   "source": [
    "#### d) histograms"
   ]
  },
  {
   "cell_type": "markdown",
   "metadata": {},
   "source": [
    "Let's see the distribution of goals present in the dataset. Use **hist()** function from **matplotlib** library."
   ]
  },
  {
   "cell_type": "code",
   "execution_count": null,
   "metadata": {},
   "outputs": [],
   "source": [
    "# YOUR CODE GOES HERE"
   ]
  },
  {
   "cell_type": "markdown",
   "metadata": {},
   "source": [
    "Does it make sense? Use an appropriate mask to get rid of outliers. Can you make this histogram more insightful?"
   ]
  },
  {
   "cell_type": "code",
   "execution_count": null,
   "metadata": {},
   "outputs": [],
   "source": [
    "# YOUR CODE GOES HERE"
   ]
  },
  {
   "cell_type": "markdown",
   "metadata": {},
   "source": [
    "What conclusion can you draw out of your experiments with histograms of revenue goals?"
   ]
  },
  {
   "cell_type": "markdown",
   "metadata": {},
   "source": [
    "Type your answer here"
   ]
  },
  {
   "cell_type": "markdown",
   "metadata": {},
   "source": [
    "#### e) boxplots"
   ]
  },
  {
   "cell_type": "markdown",
   "metadata": {},
   "source": [
    "Finally, use **boxplot()** function from **matplotlib** library on *backers*, *goal*, and *pledged*. What happens if you remove most outliers? "
   ]
  },
  {
   "cell_type": "code",
   "execution_count": null,
   "metadata": {},
   "outputs": [],
   "source": [
    "# YOUR CODE GOES HERE"
   ]
  },
  {
   "cell_type": "code",
   "execution_count": null,
   "metadata": {},
   "outputs": [],
   "source": [
    "# YOUR CODE GOES HERE"
   ]
  },
  {
   "cell_type": "code",
   "execution_count": null,
   "metadata": {},
   "outputs": [],
   "source": [
    "# YOUR CODE GOES HERE"
   ]
  },
  {
   "cell_type": "markdown",
   "metadata": {},
   "source": [
    "Great! You know the basics of plotting in Python!"
   ]
  }
 ],
 "metadata": {
  "kernelspec": {
   "display_name": "Python 3",
   "language": "python",
   "name": "python3"
  },
  "language_info": {
   "codemirror_mode": {
    "name": "ipython",
    "version": 3
   },
   "file_extension": ".py",
   "mimetype": "text/x-python",
   "name": "python",
   "nbconvert_exporter": "python",
   "pygments_lexer": "ipython3",
   "version": "3.7.6"
  }
 },
 "nbformat": 4,
 "nbformat_minor": 2
}
