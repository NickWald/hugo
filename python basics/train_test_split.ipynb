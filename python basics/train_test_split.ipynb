{
 "cells": [
  {
   "cell_type": "code",
   "execution_count": 7,
   "metadata": {},
   "outputs": [],
   "source": [
    "import numpy as np\n",
    "import pandas as pd"
   ]
  },
  {
   "cell_type": "code",
   "execution_count": 14,
   "metadata": {},
   "outputs": [],
   "source": [
    "data = pd.read_csv('/Users/nick/github/hugo/project/formula1_1950_2020/results.csv')"
   ]
  },
  {
   "cell_type": "markdown",
   "metadata": {},
   "source": [
    "As a small preparation, let's write a function that outputs several samples from the dataframes - a sample of 10 observations, a sample of 50 observations and a sample of 500 observations. When you implement the function you will see that you can create 3 sample dataframes in one shot. This is a wonderful property of Python. "
   ]
  },
  {
   "cell_type": "code",
   "execution_count": 37,
   "metadata": {},
   "outputs": [],
   "source": [
    "def sample_dfs(data, sample_size_S=10, sample_size_M=50, sample_size_L=500):\n",
    "    \n",
    "    \"\"\"\n",
    "    This function samples 3 times from a given data frame. \n",
    "    \n",
    "    Input: DataFrame\n",
    "    Output: DataFrames (3)\n",
    "    \n",
    "    \"\"\"\n",
    "    df_S = pd.DataFrame(data).sample(sample_size_S, random_state=1)\n",
    "    df_M = pd.DataFrame(data).sample(sample_size_M, random_state=1)\n",
    "    df_L = pd.DataFrame(data).sample(sample_size_L, random_state=1)\n",
    "    \n",
    "    return df_S, df_M, df_L"
   ]
  },
  {
   "cell_type": "markdown",
   "metadata": {},
   "source": [
    "Run the following code and make sure the function runs with no errors. You can explore three objects in detail to make sure they are what are expected of them to be. "
   ]
  },
  {
   "cell_type": "code",
   "execution_count": 38,
   "metadata": {},
   "outputs": [],
   "source": [
    "df_S, df_M, df_L = sample_dfs(data)\n",
    "\n",
    "assert df_S.shape[0] == 10\n",
    "assert df_M.shape[0] == 50\n",
    "assert df_L.shape[0] == 500"
   ]
  },
  {
   "cell_type": "markdown",
   "metadata": {},
   "source": [
    "We are moving to a machine learning part of the course. This short notebook is aimed to make a first introduction to **sklearn** library and solidify \"train-test\" split concept. "
   ]
  },
  {
   "cell_type": "code",
   "execution_count": 39,
   "metadata": {},
   "outputs": [
    {
     "data": {
      "text/plain": [
       "(       resultId  raceId  driverId  constructorId number  grid position  \\\n",
       " 14011     14012     570       275            182     33    24       12   \n",
       " 4959       4960     249        84             27     25     8       \\N   \n",
       " 3719       3720     193        76             24     19    22       \\N   \n",
       " 20884     20887     845       813              3     12     9       15   \n",
       " 12728     12729     525       207             32      1    10       10   \n",
       " 4041       4042     208        75             20     15    15       14   \n",
       " 10159     10160     433       187              1      1    21        7   \n",
       " 3310       3311     175        30              6      3     3        8   \n",
       " 1255       1256      77         2              3      8     1        2   \n",
       " 7787       7788      12         4              4      7    13       \\N   \n",
       " \n",
       "       positionText  positionOrder  points  laps     time milliseconds  \\\n",
       " 14011           12             12     0.0    50       \\N           \\N   \n",
       " 4959             R             14     0.0    67       \\N           \\N   \n",
       " 3719             R             21     0.0    17       \\N           \\N   \n",
       " 20884           15             15     0.0    65       \\N           \\N   \n",
       " 12728           10             10     0.0    66       \\N           \\N   \n",
       " 4041            14             14     0.0    71       \\N           \\N   \n",
       " 10159            7              7     0.0    73       \\N           \\N   \n",
       " 3310             8              8     0.0    56       \\N           \\N   \n",
       " 1255             2              2     8.0    59  +16.567      5523215   \n",
       " 7787             R             15     0.0    26       \\N           \\N   \n",
       " \n",
       "       fastestLap rank fastestLapTime fastestLapSpeed  statusId  \n",
       " 14011         \\N   \\N             \\N              \\N        14  \n",
       " 4959          \\N   \\N             \\N              \\N         5  \n",
       " 3719          \\N   \\N             \\N              \\N         7  \n",
       " 20884         64   14       1:29.391         187.468        11  \n",
       " 12728         \\N   \\N             \\N              \\N        60  \n",
       " 4041          \\N   \\N             \\N              \\N        11  \n",
       " 10159         \\N   \\N             \\N              \\N        12  \n",
       " 3310          \\N   \\N             \\N              \\N        11  \n",
       " 1255           9    4       1:31.124         203.380         1  \n",
       " 7787          23   14       1:48.634         232.104        31  ,\n",
       "        resultId  raceId  driverId  constructorId number  grid position  \\\n",
       " 14011     14012     570       275            182     33    24       12   \n",
       " 4959       4960     249        84             27     25     8       \\N   \n",
       " 3719       3720     193        76             24     19    22       \\N   \n",
       " 20884     20887     845       813              3     12     9       15   \n",
       " 12728     12729     525       207             32      1    10       10   \n",
       " 4041       4042     208        75             20     15    15       14   \n",
       " 10159     10160     433       187              1      1    21        7   \n",
       " 3310       3311     175        30              6      3     3        8   \n",
       " 1255       1256      77         2              3      8     1        2   \n",
       " 7787       7788      12         4              4      7    13       \\N   \n",
       " 8241       8242     365       127             37     15    13       \\N   \n",
       " 6454       6455     304       104             18     23    17        9   \n",
       " 3610       3611     188        64             15     12    13       \\N   \n",
       " 7629       7630       4        67              5     12    16       17   \n",
       " 554         555      44        14              9     14    12       11   \n",
       " 13229     13230     542       175              1      8    17        8   \n",
       " 23946     23951     997       828             15      9    20       10   \n",
       " 1603       1604      94        14              1      5    10       10   \n",
       " 4829       4830     244        49             15     30    14        6   \n",
       " 4837       4838     244        22             17     14    11       \\N   \n",
       " 24239     24245    1012        20              6      5     3        3   \n",
       " 1033       1034      66        21              4      2     4        6   \n",
       " 18966     18967     788       627            105     36    12        6   \n",
       " 4556       4557     232        71              3      5     2        1   \n",
       " 18487     18488     765       554            105      4     4        5   \n",
       " 22736     22740     937       815             10     11     4        5   \n",
       " 11538     11539     482       175              6     27     8       \\N   \n",
       " 11736     11737     489       192             56     21    21       11   \n",
       " 13579     13580     554       270             64     39     0       \\N   \n",
       " 5281       5282     262        22             17     14     6        7   \n",
       " 5442       5443     268        71              3      0     3        1   \n",
       " 14212     14213     578       200              1      2    16        6   \n",
       " 9944       9945     424       170             53     19    18       \\N   \n",
       " 18311     18312     756       553            105     56     0       \\N   \n",
       " 2328       2329     130        23              3      5     4        3   \n",
       " 9376       9377     402       122             37     16    20       \\N   \n",
       " 13075     13076     537       187             34      2     5        7   \n",
       " 17353     17354     716       402            181     36     0       \\N   \n",
       " 23322     23327     966       831             15     12    19       15   \n",
       " 13878     13879     565       178             63     19    19       \\N   \n",
       " 18267     18268     755       360            170      3    10        3   \n",
       " 21842     21845     886         4              6      3     6        2   \n",
       " 13318     13319     546       222             59     20     3        3   \n",
       " 17095     17096     704       386             11     22     3        6   \n",
       " 2711       2712     148        30              6      1     1        2   \n",
       " 19437     19438     809       509            113      2    25        7   \n",
       " 21195     21198     858       153              5     19    15       15   \n",
       " 9285       9286     399       166             25      4    21       12   \n",
       " 9681       9682     414       117              1      1     3       \\N   \n",
       " 1633       1634      95        32             19     15    14       \\N   \n",
       " \n",
       "       positionText  positionOrder  points  laps       time milliseconds  \\\n",
       " 14011           12             12     0.0    50         \\N           \\N   \n",
       " 4959             R             14     0.0    67         \\N           \\N   \n",
       " 3719             R             21     0.0    17         \\N           \\N   \n",
       " 20884           15             15     0.0    65         \\N           \\N   \n",
       " 12728           10             10     0.0    66         \\N           \\N   \n",
       " 4041            14             14     0.0    71         \\N           \\N   \n",
       " 10159            7              7     0.0    73         \\N           \\N   \n",
       " 3310             8              8     0.0    56         \\N           \\N   \n",
       " 1255             2              2     8.0    59    +16.567      5523215   \n",
       " 7787             R             15     0.0    26         \\N           \\N   \n",
       " 8241             R             21     0.0    27         \\N           \\N   \n",
       " 6454             9              9     0.0    79         \\N           \\N   \n",
       " 3610             R             22     0.0     0         \\N           \\N   \n",
       " 7629            17             17     0.0    56         \\N           \\N   \n",
       " 554             11             11     0.0    58         \\N           \\N   \n",
       " 13229            8              8     0.0    70  +1:26.560      7155756   \n",
       " 23946           10             10     1.0    70         \\N           \\N   \n",
       " 1603            10             10     0.0    65         \\N           \\N   \n",
       " 4829             6              6     1.0    76         \\N           \\N   \n",
       " 4837             R             14     0.0    60         \\N           \\N   \n",
       " 24239            3              3    15.0    56    +13.774      5540124   \n",
       " 1033             6              6     3.0    58    +46.594      5377676   \n",
       " 18966            6              6     0.0    58         \\N           \\N   \n",
       " 4556             1              1    10.0    72  1:36:29.2      5789200   \n",
       " 18487            5              5     2.0    78         \\N           \\N   \n",
       " 22736            5              5    10.0    43    +53.997      5074384   \n",
       " 11538            W             25     0.0     0         \\N           \\N   \n",
       " 11736           11             11     0.0    79         \\N           \\N   \n",
       " 13579            F             28     0.0     0         \\N           \\N   \n",
       " 5281             7              7     0.0    68         \\N           \\N   \n",
       " 5442             1              1    10.0    53  1:18:03.2      4683200   \n",
       " 14212            6              6     1.0    78   +1:03.64      6260540   \n",
       " 9944             R             24     0.0     3         \\N           \\N   \n",
       " 18311            F             24     0.0     0         \\N           \\N   \n",
       " 2328             3              3     4.0    78  +1:07.450      6406505   \n",
       " 9376             R             24     0.0    13         \\N           \\N   \n",
       " 13075            7              7     0.0    45   +1:39.53      5380430   \n",
       " 17353            F             22     0.0     0         \\N           \\N   \n",
       " 23322           15             15     0.0    70         \\N           \\N   \n",
       " 13878            R             19     0.0     1         \\N           \\N   \n",
       " 18267            3              3     4.0    75      +52.0      8984200   \n",
       " 21842            2              2    18.0    70    +14.408      5543551   \n",
       " 13318            3              3     4.0    80     +4.857      6700327   \n",
       " 17095            6              6     1.0    79         \\N           \\N   \n",
       " 2711             2              2     6.0    69    +20.235      5691757   \n",
       " 19437            7              7     0.0   200   +8:46.02     14507710   \n",
       " 21195           15             15     0.0    54         \\N           \\N   \n",
       " 9285            12             12     0.0    66         \\N           \\N   \n",
       " 9681             R             20     0.0    23         \\N           \\N   \n",
       " 1633             R             20     0.0     0         \\N           \\N   \n",
       " \n",
       "       fastestLap rank fastestLapTime fastestLapSpeed  statusId  \n",
       " 14011         \\N   \\N             \\N              \\N        14  \n",
       " 4959          \\N   \\N             \\N              \\N         5  \n",
       " 3719          \\N   \\N             \\N              \\N         7  \n",
       " 20884         64   14       1:29.391         187.468        11  \n",
       " 12728         \\N   \\N             \\N              \\N        60  \n",
       " 4041          \\N   \\N             \\N              \\N        11  \n",
       " 10159         \\N   \\N             \\N              \\N        12  \n",
       " 3310          \\N   \\N             \\N              \\N        11  \n",
       " 1255           9    4       1:31.124         203.380         1  \n",
       " 7787          23   14       1:48.634         232.104        31  \n",
       " 8241          \\N   \\N             \\N              \\N        10  \n",
       " 6454          \\N   \\N             \\N              \\N        12  \n",
       " 3610          \\N   \\N             \\N              \\N         4  \n",
       " 7629          38   20       1:36.473         201.954        11  \n",
       " 554           40   12       1:23.118         222.666        11  \n",
       " 13229         \\N   \\N             \\N              \\N         1  \n",
       " 23946         67    6       1:08.216         227.876        11  \n",
       " 1603          38   16       1:19.175         210.384        11  \n",
       " 4829          \\N   \\N             \\N              \\N        12  \n",
       " 4837          \\N   \\N             \\N              \\N        37  \n",
       " 24239         37    2       1:34.836         206.921         1  \n",
       " 1033          29    5       1:28.546         217.026         1  \n",
       " 18966         \\N   \\N             \\N              \\N        13  \n",
       " 4556          \\N   \\N             \\N              \\N         1  \n",
       " 18487         \\N   \\N             \\N              \\N        12  \n",
       " 22736         29   13       1:54.796         219.645         1  \n",
       " 11538         \\N   \\N             \\N              \\N        54  \n",
       " 11736         \\N   \\N             \\N              \\N        11  \n",
       " 13579         \\N   \\N             \\N              \\N        81  \n",
       " 5281          \\N   \\N             \\N              \\N        11  \n",
       " 5442          \\N   \\N             \\N              \\N         1  \n",
       " 14212         \\N   \\N             \\N              \\N         1  \n",
       " 9944          \\N   \\N             \\N              \\N       101  \n",
       " 18311         \\N   \\N             \\N              \\N        81  \n",
       " 2328          \\N   \\N             \\N              \\N         1  \n",
       " 9376          \\N   \\N             \\N              \\N         3  \n",
       " 13075         \\N   \\N             \\N              \\N         1  \n",
       " 17353         \\N   \\N             \\N              \\N        81  \n",
       " 23322         58   15       1:23.657         185.213        11  \n",
       " 13878         \\N   \\N             \\N              \\N         4  \n",
       " 18267         \\N   \\N             \\N              \\N         1  \n",
       " 21842         69    2       1:16.203         206.023         1  \n",
       " 13318         \\N   \\N             \\N              \\N         1  \n",
       " 17095         \\N   \\N             \\N              \\N        11  \n",
       " 2711          \\N   \\N             \\N              \\N         1  \n",
       " 19437         \\N   \\N             \\N              \\N         1  \n",
       " 21195         47    8       1:44.093         192.082        11  \n",
       " 9285          \\N   \\N             \\N              \\N        14  \n",
       " 9681          \\N   \\N             \\N              \\N         3  \n",
       " 1633          \\N   \\N             \\N              \\N         3  ,\n",
       "        resultId  raceId  driverId  constructorId number  grid position  \\\n",
       " 14011     14012     570       275            182     33    24       12   \n",
       " 4959       4960     249        84             27     25     8       \\N   \n",
       " 3719       3720     193        76             24     19    22       \\N   \n",
       " 20884     20887     845       813              3     12     9       15   \n",
       " 12728     12729     525       207             32      1    10       10   \n",
       " ...         ...     ...       ...            ...    ...   ...      ...   \n",
       " 6518       6519     306        92             17     32    10       13   \n",
       " 13702     13703     558       270             64     25     0       \\N   \n",
       " 13862     13863     565       221             25      4     4        3   \n",
       " 1094       1095      69         4              4      1     5        1   \n",
       " 13051     13052     536       223             58     17    17       \\N   \n",
       " \n",
       "       positionText  positionOrder  points  laps         time milliseconds  \\\n",
       " 14011           12             12     0.0    50           \\N           \\N   \n",
       " 4959             R             14     0.0    67           \\N           \\N   \n",
       " 3719             R             21     0.0    17           \\N           \\N   \n",
       " 20884           15             15     0.0    65           \\N           \\N   \n",
       " 12728           10             10     0.0    66           \\N           \\N   \n",
       " ...            ...            ...     ...   ...          ...          ...   \n",
       " 6518            13             13     0.0    63           \\N           \\N   \n",
       " 13702            W             26     0.0     0           \\N           \\N   \n",
       " 13862            3              3     4.0    78     +1:04.84      7256310   \n",
       " 1094             1              1    10.0    53  1:23:52.413      5032413   \n",
       " 13051            R             13     0.0    49           \\N           \\N   \n",
       " \n",
       "       fastestLap rank fastestLapTime fastestLapSpeed  statusId  \n",
       " 14011         \\N   \\N             \\N              \\N        14  \n",
       " 4959          \\N   \\N             \\N              \\N         5  \n",
       " 3719          \\N   \\N             \\N              \\N         7  \n",
       " 20884         64   14       1:29.391         187.468        11  \n",
       " 12728         \\N   \\N             \\N              \\N        60  \n",
       " ...          ...  ...            ...             ...       ...  \n",
       " 6518          \\N   \\N             \\N              \\N        69  \n",
       " 13702         \\N   \\N             \\N              \\N        54  \n",
       " 13862         \\N   \\N             \\N              \\N         1  \n",
       " 1094          14    1       1:32.676         225.572         1  \n",
       " 13051         \\N   \\N             \\N              \\N         6  \n",
       " \n",
       " [500 rows x 18 columns])"
      ]
     },
     "execution_count": 39,
     "metadata": {},
     "output_type": "execute_result"
    }
   ],
   "source": [
    "sample_dfs(data)"
   ]
  },
  {
   "cell_type": "markdown",
   "metadata": {},
   "source": [
    "First thing to notice is that the library is enormous. Therefore, it is split into several sub-libraries. You can import the whole library, which is not recommended, a sub-library, or a function. "
   ]
  },
  {
   "cell_type": "code",
   "execution_count": 29,
   "metadata": {},
   "outputs": [],
   "source": [
    "import sklearn"
   ]
  },
  {
   "cell_type": "code",
   "execution_count": 30,
   "metadata": {},
   "outputs": [],
   "source": [
    "from sklearn import model_selection"
   ]
  },
  {
   "cell_type": "code",
   "execution_count": 31,
   "metadata": {},
   "outputs": [],
   "source": [
    "from sklearn.model_selection import train_test_split"
   ]
  },
  {
   "cell_type": "markdown",
   "metadata": {},
   "source": [
    "It is generally a good practice to import only the functions you need. This approach also helps to reduce the amount of code you have to type. Compare below: "
   ]
  },
  {
   "cell_type": "code",
   "execution_count": 32,
   "metadata": {},
   "outputs": [],
   "source": [
    "#if you imported a library with 'import sklearn'\n",
    "split_long = sklearn.model_selection.train_test_split(np.array(np.random.choice(1000, 220)))"
   ]
  },
  {
   "cell_type": "code",
   "execution_count": 33,
   "metadata": {},
   "outputs": [],
   "source": [
    "#if you imported a function with 'from sklearn.model_selection import train_test_split'\n",
    "split_short = train_test_split(np.array(np.random.choice(1000, 220)))"
   ]
  },
  {
   "cell_type": "markdown",
   "metadata": {},
   "source": [
    "Now import the clean version of Kickstarter dataset and create a train-test split of the data. Your dependent variable is *state*. Your independent variables are *goal* and *backers*. Train-test split is *70/30*. Set random state to *22*. Assign the output of the function to 4 variables (the logic is the same as when you called **sample_dfs()** function above). Let the variable names be *X_train*, *X_test*, *y_train*, and *y_test*. Explore the output, make sure it makes sense to you in terms of dimensions, dependent and independent variables. Are the means of *goal*, and *backers* is train and test sets comparable?"
   ]
  },
  {
   "cell_type": "code",
   "execution_count": 44,
   "metadata": {},
   "outputs": [],
   "source": [
    "data2 = pd.read_csv('/Users/nick/github/hugo/python basics/data_cleaning/kickstarter_clean.csv')"
   ]
  },
  {
   "cell_type": "code",
   "execution_count": 60,
   "metadata": {},
   "outputs": [],
   "source": [
    "def sample_dfs2(data, train_size=70, test_size=30):\n",
    "    \n",
    "    X_train = pd.DataFrame(data2['goal']).sample(train_size, random_state=22)\n",
    "    X_test = pd.DataFrame(data2['goal']).sample(test_size, random_state=22)\n",
    "    Y_train = pd.DataFrame(data2['backers']).sample(train_size, random_state=22)\n",
    "    Y_test = pd.DataFrame(data2['backers']).sample(test_size, random_state=22)\n",
    "    \n",
    "    return X_train, X_test, Y_train, Y_test "
   ]
  },
  {
   "cell_type": "code",
   "execution_count": 64,
   "metadata": {},
   "outputs": [
    {
     "data": {
      "text/plain": [
       "(               goal\n",
       " 1201    23805.09873\n",
       " 905     23805.09873\n",
       " 1978    23805.09873\n",
       " 1296    23805.09873\n",
       " 1752    23805.09873\n",
       " ...             ...\n",
       " 1159    12500.00000\n",
       " 705      2500.00000\n",
       " 76       5000.00000\n",
       " 1604    75000.00000\n",
       " 1274  1000000.00000\n",
       " \n",
       " [70 rows x 1 columns],\n",
       "               goal\n",
       " 1201   23805.09873\n",
       " 905    23805.09873\n",
       " 1978   23805.09873\n",
       " 1296   23805.09873\n",
       " 1752   23805.09873\n",
       " 469    23805.09873\n",
       " 168    23805.09873\n",
       " 954    23805.09873\n",
       " 734    23805.09873\n",
       " 143    23805.09873\n",
       " 918    19500.00000\n",
       " 898     1400.00000\n",
       " 649     2000.00000\n",
       " 1071   10000.00000\n",
       " 823    70000.00000\n",
       " 732     8918.00000\n",
       " 919     2200.00000\n",
       " 1087   50000.00000\n",
       " 308     7450.00000\n",
       " 1753    4000.00000\n",
       " 411    26500.00000\n",
       " 1868    5000.00000\n",
       " 1807   74000.00000\n",
       " 1153     950.00000\n",
       " 1948  391000.00000\n",
       " 1907    6600.00000\n",
       " 157    80000.00000\n",
       " 860     1460.00000\n",
       " 570    30000.00000\n",
       " 922     6000.00000,\n",
       "          backers\n",
       " 1201   93.723718\n",
       " 905    93.723718\n",
       " 1978   93.723718\n",
       " 1296   93.723718\n",
       " 1752   93.723718\n",
       " ...          ...\n",
       " 1159  159.000000\n",
       " 705     0.000000\n",
       " 76     59.000000\n",
       " 1604   42.000000\n",
       " 1274    2.000000\n",
       " \n",
       " [70 rows x 1 columns],\n",
       "          backers\n",
       " 1201   93.723718\n",
       " 905    93.723718\n",
       " 1978   93.723718\n",
       " 1296   93.723718\n",
       " 1752   93.723718\n",
       " 469    93.723718\n",
       " 168    93.723718\n",
       " 954    61.000000\n",
       " 734    13.000000\n",
       " 143    25.000000\n",
       " 918     2.000000\n",
       " 898     0.000000\n",
       " 649    13.000000\n",
       " 1071  230.000000\n",
       " 823    25.000000\n",
       " 732    10.000000\n",
       " 919   255.000000\n",
       " 1087    0.000000\n",
       " 308    96.000000\n",
       " 1753   46.000000\n",
       " 411   632.000000\n",
       " 1868    4.000000\n",
       " 1807    1.000000\n",
       " 1153  113.000000\n",
       " 1948   10.000000\n",
       " 1907  104.000000\n",
       " 157     5.000000\n",
       " 860     2.000000\n",
       " 570     3.000000\n",
       " 922     0.000000)"
      ]
     },
     "execution_count": 64,
     "metadata": {},
     "output_type": "execute_result"
    }
   ],
   "source": [
    "X_train, X_test, Y_train, Y_test = sample_dfs2(data2)\n",
    "X_train, X_test, Y_train, Y_test"
   ]
  },
  {
   "cell_type": "code",
   "execution_count": null,
   "metadata": {},
   "outputs": [],
   "source": [
    "#YOUR CODE GOES HERE"
   ]
  },
  {
   "cell_type": "code",
   "execution_count": null,
   "metadata": {},
   "outputs": [],
   "source": [
    "#YOUR CODE GOES HERE"
   ]
  },
  {
   "cell_type": "code",
   "execution_count": null,
   "metadata": {},
   "outputs": [],
   "source": [
    "#YOUR CODE GOES HERE"
   ]
  },
  {
   "cell_type": "code",
   "execution_count": null,
   "metadata": {},
   "outputs": [],
   "source": [
    "#YOUR CODE GOES HERE"
   ]
  },
  {
   "cell_type": "code",
   "execution_count": null,
   "metadata": {},
   "outputs": [],
   "source": [
    "#YOUR CODE GOES HERE"
   ]
  }
 ],
 "metadata": {
  "kernelspec": {
   "display_name": "Python 3",
   "language": "python",
   "name": "python3"
  },
  "language_info": {
   "codemirror_mode": {
    "name": "ipython",
    "version": 3
   },
   "file_extension": ".py",
   "mimetype": "text/x-python",
   "name": "python",
   "nbconvert_exporter": "python",
   "pygments_lexer": "ipython3",
   "version": "3.7.6"
  }
 },
 "nbformat": 4,
 "nbformat_minor": 4
}
