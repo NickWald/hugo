{
 "cells": [
  {
   "cell_type": "markdown",
   "metadata": {},
   "source": [
    "# Why we need pandas?"
   ]
  },
  {
   "cell_type": "markdown",
   "metadata": {},
   "source": [
    "**Pandas** is a package designed to work with data frames. Data frames are 2-dimentional data strucures that are most commonly used in data analytics, especially in case you are working with tabular data. It enables you to do numerous types of data transformations: \n",
    "\n",
    "* reading data of various formats into python: flat files (CSV and delimited), Excel files, databases, etc. \n",
    "* clean your data: handle missing values (*NaN*s), convert data types from one to another, etc.\n",
    "* change the dimensionality of your data: insert, delete columns and rows, etc.\n",
    "* organize the data in the most efficient way for your analysis: manipulate index column, label observations etc.\n",
    "* perform split-apply-combine operations on data frames: aggregate data, explore summary statisitics on multiple levels, etc.\n",
    "* convert ragged, differently-indexed data in other Python and NumPy data structures into DataFrame objects: covert arrays, dictionaries into data frames, etc.\n",
    "* slice and subset data using labes and indexes\n",
    "* merge and join multiple data frames\n",
    "\n",
    "See official documentation and description here: https://pandas.pydata.org/docs/pandas.pdf. "
   ]
  },
  {
   "cell_type": "code",
   "execution_count": null,
   "metadata": {},
   "outputs": [],
   "source": [
    "#! pip install numpy\n",
    "#! pip install pandas\n",
    "import numpy as np #this alias is a convention\n",
    "import pandas as pd #this alias is a convention"
   ]
  },
  {
   "cell_type": "markdown",
   "metadata": {},
   "source": [
    "Modifying options is not a big deal when you work with relatively small data frames, but useful when working with larger ones. It controls the format of output. You can manage the amount of details output of descriptive functions and methods displays. These are just the example."
   ]
  },
  {
   "cell_type": "code",
   "execution_count": null,
   "metadata": {},
   "outputs": [],
   "source": [
    "pd.set_option('display.max_columns', None)\n",
    "pd.set_option('display.max_rows', 20)\n",
    "pd.set_option('display.precision', 2)"
   ]
  },
  {
   "cell_type": "markdown",
   "metadata": {},
   "source": [
    "## Series and DataFrames"
   ]
  },
  {
   "cell_type": "markdown",
   "metadata": {},
   "source": [
    "Series are 1-dimentional structures, or, in essence, vectors of values of a certian type. They are fundamental building blocks of a DataFrame. "
   ]
  },
  {
   "cell_type": "markdown",
   "metadata": {},
   "source": [
    "Create the example of Series objects with pd.Series() and print the output out."
   ]
  },
  {
   "cell_type": "code",
   "execution_count": null,
   "metadata": {},
   "outputs": [],
   "source": [
    "my_Series = #YOUR CODE GOES HERE\n",
    "my_Series"
   ]
  },
  {
   "cell_type": "markdown",
   "metadata": {},
   "source": [
    "DataFrame is a 2-dimentional structure, a collection of Series of the same length that describe features of a set of observations.  "
   ]
  },
  {
   "cell_type": "markdown",
   "metadata": {},
   "source": [
    "You already figured out how to create an array of random numbers of a certain shape."
   ]
  },
  {
   "cell_type": "code",
   "execution_count": null,
   "metadata": {},
   "outputs": [],
   "source": [
    "array_of_random_numbers =  #YOUR CODE GOES HERE\n",
    "array_of_random_numbers"
   ]
  },
  {
   "cell_type": "markdown",
   "metadata": {},
   "source": [
    "Now, use pd.DataFrame() function to convert this array to a data frame. See what *columns* argument is doing and provide names to the columns of your data frame. "
   ]
  },
  {
   "cell_type": "code",
   "execution_count": null,
   "metadata": {},
   "outputs": [],
   "source": [
    "my_data_frame =  #YOUR CODE GOES HERE\n",
    "my_data_frame"
   ]
  },
  {
   "cell_type": "markdown",
   "metadata": {},
   "source": [
    "It is common approach in pandas to create a data frame from a dictionary. You already know how to create a dictionary. "
   ]
  },
  {
   "cell_type": "code",
   "execution_count": null,
   "metadata": {},
   "outputs": [],
   "source": [
    "my_dictionary =  #YOUR CODE GOES HERE\n",
    "my_dictionary"
   ]
  },
  {
   "cell_type": "markdown",
   "metadata": {},
   "source": [
    "Let's convert our dictionary to a data frame by passing it to **pd.DataFrame()** function. Make sure you specify index like so **index=[0]** as an argument of the function."
   ]
  },
  {
   "cell_type": "code",
   "execution_count": null,
   "metadata": {
    "scrolled": true
   },
   "outputs": [],
   "source": [
    "my_data_frame_2 = pd.DataFrame(my_dictionary, index=[0])\n",
    "my_data_frame_2"
   ]
  },
  {
   "cell_type": "markdown",
   "metadata": {},
   "source": [
    "Nice! Now, let's build on the idea of building data frames from a dictionary. One of the wonderful facts about data frames is that they welcome objects of all data types. This univerality helps us work with diverse features all at once. "
   ]
  },
  {
   "cell_type": "code",
   "execution_count": null,
   "metadata": {},
   "outputs": [],
   "source": [
    "my_data_frame_3 = pd.DataFrame({\n",
    "    'column A': [1, 2, 3, 4],\n",
    "    'column B': pd.Timestamp('20200725'),\n",
    "    'column C': pd.Series(100, index=list(range(4)), dtype='float32'),\n",
    "    'column D': np.array([22] * 4, dtype='int32'),\n",
    "    'column E': pd.Categorical([\"sun\", \"rain\", \"sun\", \"rain\"]),\n",
    "    'column F': 'verified'\n",
    "})\n",
    "my_data_frame_3"
   ]
  },
  {
   "cell_type": "markdown",
   "metadata": {},
   "source": [
    "Run cell below to get information on my_data_frame_3. What can you infer about the data frame? what types of variables it contains?"
   ]
  },
  {
   "cell_type": "code",
   "execution_count": null,
   "metadata": {},
   "outputs": [],
   "source": [
    "my_data_frame_3.info()"
   ]
  },
  {
   "cell_type": "markdown",
   "metadata": {},
   "source": [
    "## Basic commands in pandas"
   ]
  },
  {
   "cell_type": "markdown",
   "metadata": {},
   "source": [
    "Use the toy data frame **my_data_frame_3** created in the previous section. Add more cells to the notebook in this section and see what these functions and methods are telling you about the data frame. \n",
    "\n",
    "* .head() - use n=2 as an argument \n",
    "* .tail() - use n=2 as an argument\n",
    "* .shape\n",
    "* .columns\n",
    "* .values\n",
    "* .dtypes"
   ]
  },
  {
   "cell_type": "code",
   "execution_count": null,
   "metadata": {},
   "outputs": [],
   "source": [
    " #YOUR CODE GOES HERE"
   ]
  },
  {
   "cell_type": "code",
   "execution_count": null,
   "metadata": {},
   "outputs": [],
   "source": [
    " #YOUR CODE GOES HERE"
   ]
  },
  {
   "cell_type": "code",
   "execution_count": null,
   "metadata": {},
   "outputs": [],
   "source": [
    " #YOUR CODE GOES HERE"
   ]
  },
  {
   "cell_type": "code",
   "execution_count": null,
   "metadata": {},
   "outputs": [],
   "source": [
    " #YOUR CODE GOES HERE"
   ]
  },
  {
   "cell_type": "code",
   "execution_count": null,
   "metadata": {},
   "outputs": [],
   "source": [
    " #YOUR CODE GOES HERE"
   ]
  },
  {
   "cell_type": "code",
   "execution_count": null,
   "metadata": {},
   "outputs": [],
   "source": [
    " #YOUR CODE GOES HERE"
   ]
  },
  {
   "cell_type": "markdown",
   "metadata": {},
   "source": [
    "Examine what **sample()** function is doing. Can you sample 2 random rows from our toy data frame? "
   ]
  },
  {
   "cell_type": "code",
   "execution_count": null,
   "metadata": {},
   "outputs": [],
   "source": [
    " #YOUR CODE GOES HERE"
   ]
  },
  {
   "cell_type": "markdown",
   "metadata": {},
   "source": [
    "What random_state is doing? What happens when you use random state and when you do not use it?"
   ]
  },
  {
   "cell_type": "markdown",
   "metadata": {},
   "source": [
    "Type here"
   ]
  },
  {
   "cell_type": "markdown",
   "metadata": {},
   "source": [
    "## DataFrame Slicing "
   ]
  },
  {
   "cell_type": "markdown",
   "metadata": {},
   "source": [
    "Look at these two options - you can slice data frames using columns and rows names with **.loc** and using index position with **.iloc**. \n",
    "\n",
    "Using both methods, get a subset of the first two rows and the first three columns. Assign it to a variable called **\"subset\"**."
   ]
  },
  {
   "cell_type": "code",
   "execution_count": null,
   "metadata": {},
   "outputs": [],
   "source": [
    "subset =  #YOUR CODE GOES HERE\n",
    "subset"
   ]
  },
  {
   "cell_type": "code",
   "execution_count": null,
   "metadata": {},
   "outputs": [],
   "source": [
    "subset =  #YOUR CODE GOES HERE\n",
    "subset"
   ]
  },
  {
   "cell_type": "markdown",
   "metadata": {},
   "source": [
    "Do you have an idea why we have to use different numbers for rows to obtain identical result in case of **.loc** and **.iloc**?"
   ]
  },
  {
   "cell_type": "markdown",
   "metadata": {},
   "source": [
    "Type here"
   ]
  },
  {
   "cell_type": "markdown",
   "metadata": {},
   "source": [
    "Look up documnetation of **rename()** function. Can you rename columns into, simply \"A\", \"B\", \"C\", \"D\", \"E\", \"F\"? Pay attention to what **inplace** argument is doing."
   ]
  },
  {
   "cell_type": "code",
   "execution_count": null,
   "metadata": {},
   "outputs": [],
   "source": [
    " #YOUR CODE GOES HERE"
   ]
  },
  {
   "cell_type": "markdown",
   "metadata": {},
   "source": [
    "Check if it worked. What basic command you can use for that?"
   ]
  },
  {
   "cell_type": "code",
   "execution_count": null,
   "metadata": {},
   "outputs": [],
   "source": [
    "my_data_frame_3.head(2)"
   ]
  },
  {
   "cell_type": "markdown",
   "metadata": {},
   "source": [
    "Nice, now we can explore 2 strategies of addressing a column of our data frame. You can do it 2 ways:"
   ]
  },
  {
   "cell_type": "code",
   "execution_count": null,
   "metadata": {},
   "outputs": [],
   "source": [
    "my_data_frame_3['A']"
   ]
  },
  {
   "cell_type": "code",
   "execution_count": null,
   "metadata": {},
   "outputs": [],
   "source": [
    "my_data_frame_3.A"
   ]
  },
  {
   "cell_type": "markdown",
   "metadata": {},
   "source": [
    "Note, that second option only works when there is no space in the name of the variable. Because of this, it is genenrally preferred to use the first option."
   ]
  },
  {
   "cell_type": "markdown",
   "metadata": {},
   "source": [
    "Finally, let's check what these functions are doing when applied to columns of the data frame. Feel free to add as many cells as you need and play around with these functions. Do not worry if those does not make sense to you - we will discuss it during our session!\n",
    "\n",
    "* .describe()\n",
    "* .value_counts()\n",
    "* .mean()\n",
    "* .unique()"
   ]
  },
  {
   "cell_type": "code",
   "execution_count": null,
   "metadata": {},
   "outputs": [],
   "source": [
    " #YOUR CODE GOES HERE"
   ]
  },
  {
   "cell_type": "code",
   "execution_count": null,
   "metadata": {},
   "outputs": [],
   "source": [
    " #YOUR CODE GOES HERE"
   ]
  },
  {
   "cell_type": "code",
   "execution_count": null,
   "metadata": {},
   "outputs": [],
   "source": [
    " #YOUR CODE GOES HERE"
   ]
  },
  {
   "cell_type": "code",
   "execution_count": null,
   "metadata": {},
   "outputs": [],
   "source": [
    " #YOUR CODE GOES HERE"
   ]
  },
  {
   "cell_type": "markdown",
   "metadata": {},
   "source": [
    "Hooray, you made a huge 1st step forward with **pandas**. More **pandas** and bigger datasets to come soon!"
   ]
  }
 ],
 "metadata": {
  "kernelspec": {
   "display_name": "Python 3",
   "language": "python",
   "name": "python3"
  },
  "language_info": {
   "codemirror_mode": {
    "name": "ipython",
    "version": 3
   },
   "file_extension": ".py",
   "mimetype": "text/x-python",
   "name": "python",
   "nbconvert_exporter": "python",
   "pygments_lexer": "ipython3",
   "version": "3.7.7"
  }
 },
 "nbformat": 4,
 "nbformat_minor": 4
}
