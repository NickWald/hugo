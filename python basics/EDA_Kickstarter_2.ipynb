{
 "cells": [
  {
   "cell_type": "markdown",
   "metadata": {},
   "source": [
    "# Exploratory Data Analysis in Python "
   ]
  },
  {
   "cell_type": "code",
   "execution_count": 2,
   "metadata": {},
   "outputs": [],
   "source": [
    "import numpy as np  \n",
    "import pandas as pd \n",
    "\n",
    "from matplotlib import pyplot as plt \n",
    "import seaborn as sns #another graphical library - works in tandem with matplotlib \n",
    "sns.set() #more stylish graphs\n",
    "\n",
    "%matplotlib inline \n",
    "\n",
    "import warnings\n",
    "warnings.filterwarnings('ignore')"
   ]
  },
  {
   "cell_type": "markdown",
   "metadata": {},
   "source": [
    "We are going to work with Kickstarter Data. Download your clean dataset here. "
   ]
  },
  {
   "cell_type": "code",
   "execution_count": 3,
   "metadata": {},
   "outputs": [],
   "source": [
    "data = pd.read_csv('/Users/nick/github/hugo/python basics/data_cleaning/kickstarter_clean.csv')"
   ]
  },
  {
   "cell_type": "markdown",
   "metadata": {},
   "source": [
    "### Initial glance at the data"
   ]
  },
  {
   "cell_type": "code",
   "execution_count": 4,
   "metadata": {},
   "outputs": [
    {
     "name": "stdout",
     "output_type": "stream",
     "text": [
      "<class 'pandas.core.frame.DataFrame'>\n",
      "RangeIndex: 2000 entries, 0 to 1999\n",
      "Data columns (total 16 columns):\n",
      " #   Column             Non-Null Count  Dtype  \n",
      "---  ------             --------------  -----  \n",
      " 0   Unnamed: 0         2000 non-null   int64  \n",
      " 1   Unnamed: 0.1       2000 non-null   int64  \n",
      " 2   ID                 2000 non-null   int64  \n",
      " 3   name               2000 non-null   object \n",
      " 4   category           2000 non-null   object \n",
      " 5   main_category      2000 non-null   object \n",
      " 6   currency           2000 non-null   object \n",
      " 7   deadline           2000 non-null   object \n",
      " 8   goal               2000 non-null   float64\n",
      " 9   launched           2000 non-null   object \n",
      " 10  pledged            2000 non-null   float64\n",
      " 11  state              2000 non-null   object \n",
      " 12  backers            2000 non-null   float64\n",
      " 13  country            2000 non-null   object \n",
      " 14  usd.pledged        2000 non-null   float64\n",
      " 15  campaign_duration  2000 non-null   int64  \n",
      "dtypes: float64(4), int64(4), object(8)\n",
      "memory usage: 250.1+ KB\n"
     ]
    }
   ],
   "source": [
    "data.info()"
   ]
  },
  {
   "cell_type": "code",
   "execution_count": 5,
   "metadata": {},
   "outputs": [
    {
     "data": {
      "text/html": [
       "<div>\n",
       "<style scoped>\n",
       "    .dataframe tbody tr th:only-of-type {\n",
       "        vertical-align: middle;\n",
       "    }\n",
       "\n",
       "    .dataframe tbody tr th {\n",
       "        vertical-align: top;\n",
       "    }\n",
       "\n",
       "    .dataframe thead th {\n",
       "        text-align: right;\n",
       "    }\n",
       "</style>\n",
       "<table border=\"1\" class=\"dataframe\">\n",
       "  <thead>\n",
       "    <tr style=\"text-align: right;\">\n",
       "      <th></th>\n",
       "      <th>Unnamed: 0</th>\n",
       "      <th>Unnamed: 0.1</th>\n",
       "      <th>ID</th>\n",
       "      <th>name</th>\n",
       "      <th>category</th>\n",
       "      <th>main_category</th>\n",
       "      <th>currency</th>\n",
       "      <th>deadline</th>\n",
       "      <th>goal</th>\n",
       "      <th>launched</th>\n",
       "      <th>pledged</th>\n",
       "      <th>state</th>\n",
       "      <th>backers</th>\n",
       "      <th>country</th>\n",
       "      <th>usd.pledged</th>\n",
       "      <th>campaign_duration</th>\n",
       "    </tr>\n",
       "  </thead>\n",
       "  <tbody>\n",
       "    <tr>\n",
       "      <th>0</th>\n",
       "      <td>0</td>\n",
       "      <td>1</td>\n",
       "      <td>239894312</td>\n",
       "      <td>Barwagen</td>\n",
       "      <td>Woodworking</td>\n",
       "      <td>Crafts</td>\n",
       "      <td>CHF</td>\n",
       "      <td>2017-11-30 00:00:00</td>\n",
       "      <td>500.0</td>\n",
       "      <td>2017-10-23 19:32:00</td>\n",
       "      <td>15.0</td>\n",
       "      <td>failed</td>\n",
       "      <td>2.0</td>\n",
       "      <td>CH</td>\n",
       "      <td>0.00</td>\n",
       "      <td>37</td>\n",
       "    </tr>\n",
       "    <tr>\n",
       "      <th>1</th>\n",
       "      <td>1</td>\n",
       "      <td>2</td>\n",
       "      <td>353169821</td>\n",
       "      <td>StrongMACH Customs muscle car replicas</td>\n",
       "      <td>Art</td>\n",
       "      <td>Art</td>\n",
       "      <td>USD</td>\n",
       "      <td>2016-10-03 00:00:00</td>\n",
       "      <td>100000.0</td>\n",
       "      <td>2016-08-04 18:29:00</td>\n",
       "      <td>0.0</td>\n",
       "      <td>failed</td>\n",
       "      <td>0.0</td>\n",
       "      <td>US</td>\n",
       "      <td>0.00</td>\n",
       "      <td>59</td>\n",
       "    </tr>\n",
       "    <tr>\n",
       "      <th>2</th>\n",
       "      <td>2</td>\n",
       "      <td>3</td>\n",
       "      <td>1387928487</td>\n",
       "      <td>Cravin' Dogs 30th anniversary CD project</td>\n",
       "      <td>Rock</td>\n",
       "      <td>Music</td>\n",
       "      <td>USD</td>\n",
       "      <td>2016-10-27 00:00:00</td>\n",
       "      <td>12500.0</td>\n",
       "      <td>2016-09-27 16:40:00</td>\n",
       "      <td>1180.0</td>\n",
       "      <td>failed</td>\n",
       "      <td>18.0</td>\n",
       "      <td>US</td>\n",
       "      <td>531.00</td>\n",
       "      <td>29</td>\n",
       "    </tr>\n",
       "    <tr>\n",
       "      <th>3</th>\n",
       "      <td>3</td>\n",
       "      <td>4</td>\n",
       "      <td>735160267</td>\n",
       "      <td>A Socially Awkward fundraiser!</td>\n",
       "      <td>Plays</td>\n",
       "      <td>Theater</td>\n",
       "      <td>GBP</td>\n",
       "      <td>2017-09-14 00:00:00</td>\n",
       "      <td>1500.0</td>\n",
       "      <td>2017-07-16 16:33:00</td>\n",
       "      <td>1500.0</td>\n",
       "      <td>successful</td>\n",
       "      <td>42.0</td>\n",
       "      <td>GB</td>\n",
       "      <td>144.05</td>\n",
       "      <td>59</td>\n",
       "    </tr>\n",
       "    <tr>\n",
       "      <th>4</th>\n",
       "      <td>4</td>\n",
       "      <td>5</td>\n",
       "      <td>1838469271</td>\n",
       "      <td>MechRunner</td>\n",
       "      <td>Video Games</td>\n",
       "      <td>Games</td>\n",
       "      <td>USD</td>\n",
       "      <td>2014-05-17 00:00:00</td>\n",
       "      <td>25000.0</td>\n",
       "      <td>2014-04-13 20:57:00</td>\n",
       "      <td>28434.0</td>\n",
       "      <td>successful</td>\n",
       "      <td>574.0</td>\n",
       "      <td>US</td>\n",
       "      <td>28434.00</td>\n",
       "      <td>33</td>\n",
       "    </tr>\n",
       "  </tbody>\n",
       "</table>\n",
       "</div>"
      ],
      "text/plain": [
       "   Unnamed: 0  Unnamed: 0.1          ID  \\\n",
       "0           0             1   239894312   \n",
       "1           1             2   353169821   \n",
       "2           2             3  1387928487   \n",
       "3           3             4   735160267   \n",
       "4           4             5  1838469271   \n",
       "\n",
       "                                       name     category main_category  \\\n",
       "0                                  Barwagen  Woodworking        Crafts   \n",
       "1    StrongMACH Customs muscle car replicas          Art           Art   \n",
       "2  Cravin' Dogs 30th anniversary CD project         Rock         Music   \n",
       "3            A Socially Awkward fundraiser!        Plays       Theater   \n",
       "4                                MechRunner  Video Games         Games   \n",
       "\n",
       "  currency             deadline      goal             launched  pledged  \\\n",
       "0      CHF  2017-11-30 00:00:00     500.0  2017-10-23 19:32:00     15.0   \n",
       "1      USD  2016-10-03 00:00:00  100000.0  2016-08-04 18:29:00      0.0   \n",
       "2      USD  2016-10-27 00:00:00   12500.0  2016-09-27 16:40:00   1180.0   \n",
       "3      GBP  2017-09-14 00:00:00    1500.0  2017-07-16 16:33:00   1500.0   \n",
       "4      USD  2014-05-17 00:00:00   25000.0  2014-04-13 20:57:00  28434.0   \n",
       "\n",
       "        state  backers country  usd.pledged  campaign_duration  \n",
       "0      failed      2.0      CH         0.00                 37  \n",
       "1      failed      0.0      US         0.00                 59  \n",
       "2      failed     18.0      US       531.00                 29  \n",
       "3  successful     42.0      GB       144.05                 59  \n",
       "4  successful    574.0      US     28434.00                 33  "
      ]
     },
     "execution_count": 5,
     "metadata": {},
     "output_type": "execute_result"
    }
   ],
   "source": [
    "data.head()"
   ]
  },
  {
   "cell_type": "code",
   "execution_count": null,
   "metadata": {},
   "outputs": [],
   "source": [
    "# YOUR CODE GOES HERE"
   ]
  },
  {
   "cell_type": "code",
   "execution_count": null,
   "metadata": {},
   "outputs": [],
   "source": [
    "# YOUR CODE GOES HERE"
   ]
  },
  {
   "cell_type": "markdown",
   "metadata": {},
   "source": [
    "### Summary statistics"
   ]
  },
  {
   "cell_type": "code",
   "execution_count": 6,
   "metadata": {},
   "outputs": [
    {
     "data": {
      "text/plain": [
       "23597.627693651593"
      ]
     },
     "execution_count": 6,
     "metadata": {},
     "output_type": "execute_result"
    }
   ],
   "source": [
    "data['goal'].mean()"
   ]
  },
  {
   "cell_type": "code",
   "execution_count": 7,
   "metadata": {},
   "outputs": [
    {
     "data": {
      "text/plain": [
       "23597.627693651593"
      ]
     },
     "execution_count": 7,
     "metadata": {},
     "output_type": "execute_result"
    }
   ],
   "source": [
    "data.goal.mean() #alternative syntax, not always works"
   ]
  },
  {
   "cell_type": "code",
   "execution_count": 8,
   "metadata": {},
   "outputs": [
    {
     "data": {
      "text/plain": [
       "5000.0"
      ]
     },
     "execution_count": 8,
     "metadata": {},
     "output_type": "execute_result"
    }
   ],
   "source": [
    "data['goal'].median()"
   ]
  },
  {
   "cell_type": "markdown",
   "metadata": {},
   "source": [
    "#### Summary statistics of GOAL"
   ]
  },
  {
   "cell_type": "markdown",
   "metadata": {},
   "source": [
    "a) mean and median"
   ]
  },
  {
   "cell_type": "markdown",
   "metadata": {},
   "source": [
    "*Note*: try to remove **.T** to see what **T** is doing to the data frame."
   ]
  },
  {
   "cell_type": "code",
   "execution_count": 11,
   "metadata": {},
   "outputs": [
    {
     "data": {
      "text/html": [
       "<div>\n",
       "<style scoped>\n",
       "    .dataframe tbody tr th:only-of-type {\n",
       "        vertical-align: middle;\n",
       "    }\n",
       "\n",
       "    .dataframe tbody tr th {\n",
       "        vertical-align: top;\n",
       "    }\n",
       "\n",
       "    .dataframe thead th {\n",
       "        text-align: right;\n",
       "    }\n",
       "</style>\n",
       "<table border=\"1\" class=\"dataframe\">\n",
       "  <thead>\n",
       "    <tr style=\"text-align: right;\">\n",
       "      <th></th>\n",
       "      <th>mean</th>\n",
       "      <th>median</th>\n",
       "    </tr>\n",
       "  </thead>\n",
       "  <tbody>\n",
       "    <tr>\n",
       "      <th>goal</th>\n",
       "      <td>23597.627694</td>\n",
       "      <td>5000.0</td>\n",
       "    </tr>\n",
       "  </tbody>\n",
       "</table>\n",
       "</div>"
      ],
      "text/plain": [
       "              mean  median\n",
       "goal  23597.627694  5000.0"
      ]
     },
     "execution_count": 11,
     "metadata": {},
     "output_type": "execute_result"
    }
   ],
   "source": [
    "pd.DataFrame([data['goal'].mean(), \n",
    "              data['goal'].median()], \n",
    "              index = ['mean', 'median'], \n",
    "              columns = ['goal']).T"
   ]
  },
  {
   "cell_type": "code",
   "execution_count": 12,
   "metadata": {},
   "outputs": [
    {
     "data": {
      "text/html": [
       "<div>\n",
       "<style scoped>\n",
       "    .dataframe tbody tr th:only-of-type {\n",
       "        vertical-align: middle;\n",
       "    }\n",
       "\n",
       "    .dataframe tbody tr th {\n",
       "        vertical-align: top;\n",
       "    }\n",
       "\n",
       "    .dataframe thead th {\n",
       "        text-align: right;\n",
       "    }\n",
       "</style>\n",
       "<table border=\"1\" class=\"dataframe\">\n",
       "  <thead>\n",
       "    <tr style=\"text-align: right;\">\n",
       "      <th></th>\n",
       "      <th>goal</th>\n",
       "    </tr>\n",
       "  </thead>\n",
       "  <tbody>\n",
       "    <tr>\n",
       "      <th>mean</th>\n",
       "      <td>23597.627694</td>\n",
       "    </tr>\n",
       "    <tr>\n",
       "      <th>median</th>\n",
       "      <td>5000.000000</td>\n",
       "    </tr>\n",
       "  </tbody>\n",
       "</table>\n",
       "</div>"
      ],
      "text/plain": [
       "                goal\n",
       "mean    23597.627694\n",
       "median   5000.000000"
      ]
     },
     "execution_count": 12,
     "metadata": {},
     "output_type": "execute_result"
    }
   ],
   "source": [
    "pd.DataFrame([data['goal'].mean(), \n",
    "              data['goal'].median()], \n",
    "              index = ['mean', 'median'], \n",
    "              columns = ['goal'])"
   ]
  },
  {
   "cell_type": "markdown",
   "metadata": {},
   "source": [
    "b) minimum, maximum and range"
   ]
  },
  {
   "cell_type": "markdown",
   "metadata": {},
   "source": [
    "Using thre code above as an example, do it yourself."
   ]
  },
  {
   "cell_type": "code",
   "execution_count": 13,
   "metadata": {},
   "outputs": [
    {
     "data": {
      "text/html": [
       "<div>\n",
       "<style scoped>\n",
       "    .dataframe tbody tr th:only-of-type {\n",
       "        vertical-align: middle;\n",
       "    }\n",
       "\n",
       "    .dataframe tbody tr th {\n",
       "        vertical-align: top;\n",
       "    }\n",
       "\n",
       "    .dataframe thead th {\n",
       "        text-align: right;\n",
       "    }\n",
       "</style>\n",
       "<table border=\"1\" class=\"dataframe\">\n",
       "  <thead>\n",
       "    <tr style=\"text-align: right;\">\n",
       "      <th></th>\n",
       "      <th>min</th>\n",
       "      <th>max</th>\n",
       "    </tr>\n",
       "  </thead>\n",
       "  <tbody>\n",
       "    <tr>\n",
       "      <th>goal</th>\n",
       "      <td>1.0</td>\n",
       "      <td>2000000.0</td>\n",
       "    </tr>\n",
       "  </tbody>\n",
       "</table>\n",
       "</div>"
      ],
      "text/plain": [
       "      min        max\n",
       "goal  1.0  2000000.0"
      ]
     },
     "execution_count": 13,
     "metadata": {},
     "output_type": "execute_result"
    }
   ],
   "source": [
    "pd.DataFrame([data['goal'].min(), \n",
    "              data['goal'].max()], \n",
    "              index = ['min', 'max'], \n",
    "              columns = ['goal']).T"
   ]
  },
  {
   "cell_type": "markdown",
   "metadata": {},
   "source": [
    "c) variance and standard deviation"
   ]
  },
  {
   "cell_type": "markdown",
   "metadata": {},
   "source": [
    "Using thre code above as an example, do it yourself."
   ]
  },
  {
   "cell_type": "markdown",
   "metadata": {},
   "source": [
    "*Note*: for standard deviation include 2 columns: one should use standard function and the other should calculate standard deviation from variance. "
   ]
  },
  {
   "cell_type": "code",
   "execution_count": 14,
   "metadata": {},
   "outputs": [
    {
     "data": {
      "text/html": [
       "<div>\n",
       "<style scoped>\n",
       "    .dataframe tbody tr th:only-of-type {\n",
       "        vertical-align: middle;\n",
       "    }\n",
       "\n",
       "    .dataframe tbody tr th {\n",
       "        vertical-align: top;\n",
       "    }\n",
       "\n",
       "    .dataframe thead th {\n",
       "        text-align: right;\n",
       "    }\n",
       "</style>\n",
       "<table border=\"1\" class=\"dataframe\">\n",
       "  <thead>\n",
       "    <tr style=\"text-align: right;\">\n",
       "      <th></th>\n",
       "      <th>standard deviation</th>\n",
       "      <th>variance</th>\n",
       "    </tr>\n",
       "  </thead>\n",
       "  <tbody>\n",
       "    <tr>\n",
       "      <th>goal</th>\n",
       "      <td>99170.069352</td>\n",
       "      <td>9.834703e+09</td>\n",
       "    </tr>\n",
       "  </tbody>\n",
       "</table>\n",
       "</div>"
      ],
      "text/plain": [
       "      standard deviation      variance\n",
       "goal        99170.069352  9.834703e+09"
      ]
     },
     "execution_count": 14,
     "metadata": {},
     "output_type": "execute_result"
    }
   ],
   "source": [
    "pd.DataFrame([data['goal'].std(), \n",
    "              data['goal'].var()], \n",
    "              index = ['standard deviation', 'variance'], \n",
    "              columns = ['goal']).T"
   ]
  },
  {
   "cell_type": "markdown",
   "metadata": {},
   "source": [
    "d) print out quantiles 1 and 3, as well as IQR."
   ]
  },
  {
   "cell_type": "markdown",
   "metadata": {},
   "source": [
    "*Note*: explore **percentile()** function in **numpy** library."
   ]
  },
  {
   "cell_type": "code",
   "execution_count": 19,
   "metadata": {},
   "outputs": [
    {
     "name": "stdout",
     "output_type": "stream",
     "text": [
      "Q1: 5000.0\n",
      "Q2: 5000.0\n",
      "IQR: 15000.0\n"
     ]
    }
   ],
   "source": [
    "Q1 = np.percentile(data['goal'], 50)\n",
    "Q3 = np.percentile(data['goal'], 50)\n",
    "\n",
    "q75, q25 = np.percentile(data['goal'], [75 ,25])\n",
    "IQR = q75 - q25\n",
    "\n",
    "print('Q1:', Q1)\n",
    "print('Q2:', Q3)\n",
    "print('IQR:', IQR)"
   ]
  },
  {
   "cell_type": "markdown",
   "metadata": {},
   "source": [
    "Assemble all the statistics you calculated above into one summary table. "
   ]
  },
  {
   "cell_type": "code",
   "execution_count": 24,
   "metadata": {},
   "outputs": [
    {
     "data": {
      "text/html": [
       "<div>\n",
       "<style scoped>\n",
       "    .dataframe tbody tr th:only-of-type {\n",
       "        vertical-align: middle;\n",
       "    }\n",
       "\n",
       "    .dataframe tbody tr th {\n",
       "        vertical-align: top;\n",
       "    }\n",
       "\n",
       "    .dataframe thead th {\n",
       "        text-align: right;\n",
       "    }\n",
       "</style>\n",
       "<table border=\"1\" class=\"dataframe\">\n",
       "  <thead>\n",
       "    <tr style=\"text-align: right;\">\n",
       "      <th></th>\n",
       "      <th>Q1</th>\n",
       "      <th>Q3</th>\n",
       "      <th>IQR</th>\n",
       "    </tr>\n",
       "  </thead>\n",
       "  <tbody>\n",
       "    <tr>\n",
       "      <th>0</th>\n",
       "      <td>5000.0</td>\n",
       "      <td>5000.0</td>\n",
       "      <td>15000.0</td>\n",
       "    </tr>\n",
       "  </tbody>\n",
       "</table>\n",
       "</div>"
      ],
      "text/plain": [
       "       Q1      Q3      IQR\n",
       "0  5000.0  5000.0  15000.0"
      ]
     },
     "execution_count": 24,
     "metadata": {},
     "output_type": "execute_result"
    }
   ],
   "source": [
    "SummaryData = {'Q1':[Q1], 'Q3':[Q3], 'IQR':[IQR]}\n",
    "summary = pd.DataFrame(SummaryData, columns = ['Q1', 'Q3', 'IQR'])\n",
    "summary"
   ]
  },
  {
   "cell_type": "markdown",
   "metadata": {},
   "source": [
    "Compare to a shotcut implementation."
   ]
  },
  {
   "cell_type": "code",
   "execution_count": 25,
   "metadata": {},
   "outputs": [
    {
     "data": {
      "text/plain": [
       "count    2.000000e+03\n",
       "mean     2.359763e+04\n",
       "std      9.917007e+04\n",
       "min      1.000000e+00\n",
       "25%      2.000000e+03\n",
       "50%      5.000000e+03\n",
       "75%      1.700000e+04\n",
       "max      2.000000e+06\n",
       "Name: goal, dtype: float64"
      ]
     },
     "execution_count": 25,
     "metadata": {},
     "output_type": "execute_result"
    }
   ],
   "source": [
    "data.goal.describe()"
   ]
  },
  {
   "cell_type": "markdown",
   "metadata": {},
   "source": [
    "#### Summary statistics of MAIN_CATEGORIES"
   ]
  },
  {
   "cell_type": "markdown",
   "metadata": {},
   "source": [
    "Let's look at the categories. This is a simple example when we just count instances of records in our data frame by category. "
   ]
  },
  {
   "cell_type": "code",
   "execution_count": null,
   "metadata": {},
   "outputs": [],
   "source": [
    "data.main_category.value_counts()"
   ]
  },
  {
   "cell_type": "markdown",
   "metadata": {},
   "source": [
    "Alternatively, you can gain the same information with a **groupby** function. **groupby** is a super important function, it enables us to generalize our approach to creating statistical summaries. It splits the data into smaller chunks, runs separate computations on each of those chunks and combines the results."
   ]
  },
  {
   "cell_type": "code",
   "execution_count": null,
   "metadata": {},
   "outputs": [],
   "source": [
    "data.groupby(['main_category'])['ID'].agg(['count']).sort_values(by='count', ascending=False)"
   ]
  },
  {
   "cell_type": "markdown",
   "metadata": {},
   "source": [
    "Can you tell why the output is in a slightly different format?"
   ]
  },
  {
   "cell_type": "code",
   "execution_count": null,
   "metadata": {},
   "outputs": [],
   "source": [
    "Type here"
   ]
  },
  {
   "cell_type": "markdown",
   "metadata": {},
   "source": [
    "Using the example code above add the second column to the summary that contains the mean goal by main category. As an argument of the **agg()** function make sure you use a dictionary instead of a list. The key of the dictionary is a name of the column. The value is the summary statistic you want. Both keys and values should be strings. Lastly, sort values by goal.    "
   ]
  },
  {
   "cell_type": "code",
   "execution_count": null,
   "metadata": {},
   "outputs": [],
   "source": [
    "# YOUR CODE GOES HERE"
   ]
  },
  {
   "cell_type": "markdown",
   "metadata": {},
   "source": [
    "Now let's look into *state* variabe. See the counts of observations with different states. "
   ]
  },
  {
   "cell_type": "code",
   "execution_count": null,
   "metadata": {},
   "outputs": [],
   "source": [
    "# YOUR CODE GOES HERE"
   ]
  },
  {
   "cell_type": "markdown",
   "metadata": {},
   "source": [
    "Let's filter only *failed* and *successful* categories with a mask. "
   ]
  },
  {
   "cell_type": "code",
   "execution_count": null,
   "metadata": {},
   "outputs": [],
   "source": [
    "# YOUR CODE GOES HERE"
   ]
  },
  {
   "cell_type": "code",
   "execution_count": null,
   "metadata": {},
   "outputs": [],
   "source": [
    "# YOUR CODE GOES HERE"
   ]
  },
  {
   "cell_type": "markdown",
   "metadata": {},
   "source": [
    "Now let's see same statistics - count of observations and mean of *goal* by *state*. Chain **rename()** and **reset_index()** functions to your code to get a neater table. "
   ]
  },
  {
   "cell_type": "code",
   "execution_count": null,
   "metadata": {},
   "outputs": [],
   "source": [
    "# YOUR CODE GOES HERE"
   ]
  },
  {
   "cell_type": "markdown",
   "metadata": {},
   "source": [
    "Let's see the attributes of successful project. Group only successful projects by main category and observe same statistics there. "
   ]
  },
  {
   "cell_type": "code",
   "execution_count": null,
   "metadata": {},
   "outputs": [],
   "source": [
    "# YOUR CODE GOES HERE"
   ]
  },
  {
   "cell_type": "code",
   "execution_count": null,
   "metadata": {},
   "outputs": [],
   "source": [
    "# YOUR CODE GOES HERE"
   ]
  },
  {
   "cell_type": "markdown",
   "metadata": {},
   "source": [
    "### Visualizations"
   ]
  },
  {
   "cell_type": "markdown",
   "metadata": {},
   "source": [
    "Create a boxplot of *goal*."
   ]
  },
  {
   "cell_type": "code",
   "execution_count": null,
   "metadata": {},
   "outputs": [],
   "source": [
    "# YOUR CODE GOES HERE"
   ]
  },
  {
   "cell_type": "markdown",
   "metadata": {},
   "source": [
    "This is how you can create subplots of *goal*, *pledged*, and *bakers*. Study the code below - it allows to produce a few plots in a row. "
   ]
  },
  {
   "cell_type": "code",
   "execution_count": null,
   "metadata": {},
   "outputs": [],
   "source": [
    "fig, ax = plt.subplots(1, 3, sharex=False, sharey=False, figsize=[15,7])\n",
    "plt.suptitle('Boxplots with Outliers', fontsize=18)\n",
    "\n",
    "#Row1\n",
    "ax[0].boxplot(data.goal)\n",
    "ax[0].set_title('Goal', loc='center', fontsize=14)\n",
    "ax[0].set_xticklabels('')\n",
    "\n",
    "#Row2\n",
    "ax[1].boxplot(data.pledged)\n",
    "ax[1].set_title('Pledged', loc='center', fontsize=14)\n",
    "ax[1].set_xticklabels('')\n",
    "\n",
    "#Row13\n",
    "ax[2].boxplot(data.backers)\n",
    "ax[2].set_title('Backers', loc='center', fontsize=14)\n",
    "ax[2].set_xticklabels('');"
   ]
  },
  {
   "cell_type": "markdown",
   "metadata": {},
   "source": [
    "Use a mask to filter out outliers and see how the boxplots are changing. "
   ]
  },
  {
   "cell_type": "code",
   "execution_count": null,
   "metadata": {},
   "outputs": [],
   "source": [
    "mask = # YOUR CODE GOES HERE"
   ]
  },
  {
   "cell_type": "code",
   "execution_count": null,
   "metadata": {},
   "outputs": [],
   "source": [
    "new_data = # YOUR CODE GOES HERE"
   ]
  },
  {
   "cell_type": "code",
   "execution_count": null,
   "metadata": {},
   "outputs": [],
   "source": [
    "# YOUR CODE GOES HERE"
   ]
  },
  {
   "cell_type": "markdown",
   "metadata": {},
   "source": [
    "Similarly, build three subplots with **histograms** of *goal*, *pledged*, and *bakers*."
   ]
  },
  {
   "cell_type": "code",
   "execution_count": null,
   "metadata": {},
   "outputs": [],
   "source": [
    "# YOUR CODE GOES HERE"
   ]
  },
  {
   "cell_type": "markdown",
   "metadata": {},
   "source": [
    "Now, build 2 bar charts of *main_category* counts and *state* counts as subplots. What is better looking in this case - vertical or horizontal implementation? "
   ]
  },
  {
   "cell_type": "code",
   "execution_count": null,
   "metadata": {},
   "outputs": [],
   "source": [
    "# YOUR CODE GOES HERE"
   ]
  },
  {
   "cell_type": "code",
   "execution_count": null,
   "metadata": {},
   "outputs": [],
   "source": [
    "# YOUR CODE GOES HERE"
   ]
  },
  {
   "cell_type": "code",
   "execution_count": null,
   "metadata": {},
   "outputs": [],
   "source": [
    "# YOUR CODE GOES HERE"
   ]
  },
  {
   "cell_type": "markdown",
   "metadata": {},
   "source": [
    "Let's look at relationship between *pledged* and *backers*. Also, it is interesting to color the data by state - either *successful* or *failed*. It is more convenient to use **scatterplot()** function from **seaborn** package to combine these three variables in the graph. Check it out. Also see what  \n",
    "\n",
    "* plt.figure(figsize=[10,10])\n",
    "\n",
    "is doing. Try to run your code with and without it. It is important to notice that **matplotlib** library works together with **seaborn** library to create a single graph."
   ]
  },
  {
   "cell_type": "code",
   "execution_count": null,
   "metadata": {},
   "outputs": [],
   "source": [
    "plt.figure(figsize=[10,10])\n",
    "# YOUR CODE GOES HERE"
   ]
  },
  {
   "cell_type": "markdown",
   "metadata": {},
   "source": [
    "You can see the general trend, but because most of the points are densely packed at the bottom left, it is a little ambiguous. We will use log transformation to get a better look. Notice that to transform the data I am using something called **lambda** function. it is just a function that is not defined in memory and, therefore, is used only once (as opposed to the function that we defined in an \"area code\" exercise). All the function is doing is saying 'make every x a log of x' and apply it to every value in a backers column with **apply()** function."
   ]
  },
  {
   "cell_type": "code",
   "execution_count": null,
   "metadata": {},
   "outputs": [],
   "source": [
    "new_data_log = new_data[(new_data['state'] == 'successful') | (new_data['state'] == 'failed')]\n",
    "\n",
    "new_data_log.backers = new_data_log.backers.apply(lambda x:  np.log(x))\n",
    "new_data_log.pledged = new_data_log.pledged.apply(lambda x:  np.log(x))\n",
    "new_data_log.head()"
   ]
  },
  {
   "cell_type": "markdown",
   "metadata": {},
   "source": [
    "Now, create the same plot, but use the **new_data_log** data frame with transformed variables. "
   ]
  },
  {
   "cell_type": "code",
   "execution_count": null,
   "metadata": {},
   "outputs": [],
   "source": [
    "# YOUR CODE GOES HERE"
   ]
  },
  {
   "cell_type": "markdown",
   "metadata": {},
   "source": [
    "Experiment with the data a little more on your own. What story can you tell about **Kickstarter** data now?"
   ]
  },
  {
   "cell_type": "markdown",
   "metadata": {},
   "source": [
    "Type here"
   ]
  }
 ],
 "metadata": {
  "kernelspec": {
   "display_name": "Python 3",
   "language": "python",
   "name": "python3"
  },
  "language_info": {
   "codemirror_mode": {
    "name": "ipython",
    "version": 3
   },
   "file_extension": ".py",
   "mimetype": "text/x-python",
   "name": "python",
   "nbconvert_exporter": "python",
   "pygments_lexer": "ipython3",
   "version": "3.7.6"
  }
 },
 "nbformat": 4,
 "nbformat_minor": 4
}
