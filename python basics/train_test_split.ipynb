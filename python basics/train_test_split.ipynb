{
 "cells": [
  {
   "cell_type": "code",
   "execution_count": 7,
   "metadata": {},
   "outputs": [],
   "source": [
    "import numpy as np\n",
    "import pandas as pd"
   ]
  },
  {
   "cell_type": "code",
   "execution_count": 14,
   "metadata": {},
   "outputs": [],
   "source": [
    "data = pd.read_csv('/Users/nick/github/hugo/project/formula1_1950_2020/results.csv')"
   ]
  },
  {
   "cell_type": "markdown",
   "metadata": {},
   "source": [
    "As a small preparation, let's write a function that outputs several samples from the dataframes - a sample of 10 observations, a sample of 50 observations and a sample of 500 observations. When you implement the function you will see that you can create 3 sample dataframes in one shot. This is a wonderful property of Python. "
   ]
  },
  {
   "cell_type": "code",
   "execution_count": 37,
   "metadata": {},
   "outputs": [],
   "source": [
    "def sample_dfs(data, sample_size_S=10, sample_size_M=50, sample_size_L=500):\n",
    "    \n",
    "    \"\"\"\n",
    "    This function samples 3 times from a given data frame. \n",
    "    \n",
    "    Input: DataFrame\n",
    "    Output: DataFrames (3)\n",
    "    \n",
    "    \"\"\"\n",
    "    df_S = pd.DataFrame(data).sample(sample_size_S, random_state=1)\n",
    "    df_M = pd.DataFrame(data).sample(sample_size_M, random_state=1)\n",
    "    df_L = pd.DataFrame(data).sample(sample_size_L, random_state=1)\n",
    "    \n",
    "    return df_S, df_M, df_L"
   ]
  },
  {
   "cell_type": "markdown",
   "metadata": {},
   "source": [
    "Run the following code and make sure the function runs with no errors. You can explore three objects in detail to make sure they are what are expected of them to be. "
   ]
  },
  {
   "cell_type": "code",
   "execution_count": 38,
   "metadata": {},
   "outputs": [],
   "source": [
    "df_S, df_M, df_L = sample_dfs(data)\n",
    "\n",
    "assert df_S.shape[0] == 10\n",
    "assert df_M.shape[0] == 50\n",
    "assert df_L.shape[0] == 500"
   ]
  },
  {
   "cell_type": "markdown",
   "metadata": {},
   "source": [
    "We are moving to a machine learning part of the course. This short notebook is aimed to make a first introduction to **sklearn** library and solidify \"train-test\" split concept. "
   ]
  },
  {
   "cell_type": "code",
   "execution_count": 66,
   "metadata": {},
   "outputs": [
    {
     "data": {
      "text/html": [
       "<div>\n",
       "<style scoped>\n",
       "    .dataframe tbody tr th:only-of-type {\n",
       "        vertical-align: middle;\n",
       "    }\n",
       "\n",
       "    .dataframe tbody tr th {\n",
       "        vertical-align: top;\n",
       "    }\n",
       "\n",
       "    .dataframe thead th {\n",
       "        text-align: right;\n",
       "    }\n",
       "</style>\n",
       "<table border=\"1\" class=\"dataframe\">\n",
       "  <thead>\n",
       "    <tr style=\"text-align: right;\">\n",
       "      <th></th>\n",
       "      <th>resultId</th>\n",
       "      <th>raceId</th>\n",
       "      <th>driverId</th>\n",
       "      <th>constructorId</th>\n",
       "      <th>number</th>\n",
       "      <th>grid</th>\n",
       "      <th>position</th>\n",
       "      <th>positionText</th>\n",
       "      <th>positionOrder</th>\n",
       "      <th>points</th>\n",
       "      <th>laps</th>\n",
       "      <th>time</th>\n",
       "      <th>milliseconds</th>\n",
       "      <th>fastestLap</th>\n",
       "      <th>rank</th>\n",
       "      <th>fastestLapTime</th>\n",
       "      <th>fastestLapSpeed</th>\n",
       "      <th>statusId</th>\n",
       "    </tr>\n",
       "  </thead>\n",
       "  <tbody>\n",
       "    <tr>\n",
       "      <th>14011</th>\n",
       "      <td>14012</td>\n",
       "      <td>570</td>\n",
       "      <td>275</td>\n",
       "      <td>182</td>\n",
       "      <td>33</td>\n",
       "      <td>24</td>\n",
       "      <td>12</td>\n",
       "      <td>12</td>\n",
       "      <td>12</td>\n",
       "      <td>0.0</td>\n",
       "      <td>50</td>\n",
       "      <td>\\N</td>\n",
       "      <td>\\N</td>\n",
       "      <td>\\N</td>\n",
       "      <td>\\N</td>\n",
       "      <td>\\N</td>\n",
       "      <td>\\N</td>\n",
       "      <td>14</td>\n",
       "    </tr>\n",
       "    <tr>\n",
       "      <th>4959</th>\n",
       "      <td>4960</td>\n",
       "      <td>249</td>\n",
       "      <td>84</td>\n",
       "      <td>27</td>\n",
       "      <td>25</td>\n",
       "      <td>8</td>\n",
       "      <td>\\N</td>\n",
       "      <td>R</td>\n",
       "      <td>14</td>\n",
       "      <td>0.0</td>\n",
       "      <td>67</td>\n",
       "      <td>\\N</td>\n",
       "      <td>\\N</td>\n",
       "      <td>\\N</td>\n",
       "      <td>\\N</td>\n",
       "      <td>\\N</td>\n",
       "      <td>\\N</td>\n",
       "      <td>5</td>\n",
       "    </tr>\n",
       "    <tr>\n",
       "      <th>3719</th>\n",
       "      <td>3720</td>\n",
       "      <td>193</td>\n",
       "      <td>76</td>\n",
       "      <td>24</td>\n",
       "      <td>19</td>\n",
       "      <td>22</td>\n",
       "      <td>\\N</td>\n",
       "      <td>R</td>\n",
       "      <td>21</td>\n",
       "      <td>0.0</td>\n",
       "      <td>17</td>\n",
       "      <td>\\N</td>\n",
       "      <td>\\N</td>\n",
       "      <td>\\N</td>\n",
       "      <td>\\N</td>\n",
       "      <td>\\N</td>\n",
       "      <td>\\N</td>\n",
       "      <td>7</td>\n",
       "    </tr>\n",
       "    <tr>\n",
       "      <th>20884</th>\n",
       "      <td>20887</td>\n",
       "      <td>845</td>\n",
       "      <td>813</td>\n",
       "      <td>3</td>\n",
       "      <td>12</td>\n",
       "      <td>9</td>\n",
       "      <td>15</td>\n",
       "      <td>15</td>\n",
       "      <td>15</td>\n",
       "      <td>0.0</td>\n",
       "      <td>65</td>\n",
       "      <td>\\N</td>\n",
       "      <td>\\N</td>\n",
       "      <td>64</td>\n",
       "      <td>14</td>\n",
       "      <td>1:29.391</td>\n",
       "      <td>187.468</td>\n",
       "      <td>11</td>\n",
       "    </tr>\n",
       "    <tr>\n",
       "      <th>12728</th>\n",
       "      <td>12729</td>\n",
       "      <td>525</td>\n",
       "      <td>207</td>\n",
       "      <td>32</td>\n",
       "      <td>1</td>\n",
       "      <td>10</td>\n",
       "      <td>10</td>\n",
       "      <td>10</td>\n",
       "      <td>10</td>\n",
       "      <td>0.0</td>\n",
       "      <td>66</td>\n",
       "      <td>\\N</td>\n",
       "      <td>\\N</td>\n",
       "      <td>\\N</td>\n",
       "      <td>\\N</td>\n",
       "      <td>\\N</td>\n",
       "      <td>\\N</td>\n",
       "      <td>60</td>\n",
       "    </tr>\n",
       "  </tbody>\n",
       "</table>\n",
       "</div>"
      ],
      "text/plain": [
       "       resultId  raceId  driverId  constructorId number  grid position  \\\n",
       "14011     14012     570       275            182     33    24       12   \n",
       "4959       4960     249        84             27     25     8       \\N   \n",
       "3719       3720     193        76             24     19    22       \\N   \n",
       "20884     20887     845       813              3     12     9       15   \n",
       "12728     12729     525       207             32      1    10       10   \n",
       "\n",
       "      positionText  positionOrder  points  laps time milliseconds fastestLap  \\\n",
       "14011           12             12     0.0    50   \\N           \\N         \\N   \n",
       "4959             R             14     0.0    67   \\N           \\N         \\N   \n",
       "3719             R             21     0.0    17   \\N           \\N         \\N   \n",
       "20884           15             15     0.0    65   \\N           \\N         64   \n",
       "12728           10             10     0.0    66   \\N           \\N         \\N   \n",
       "\n",
       "      rank fastestLapTime fastestLapSpeed  statusId  \n",
       "14011   \\N             \\N              \\N        14  \n",
       "4959    \\N             \\N              \\N         5  \n",
       "3719    \\N             \\N              \\N         7  \n",
       "20884   14       1:29.391         187.468        11  \n",
       "12728   \\N             \\N              \\N        60  "
      ]
     },
     "execution_count": 66,
     "metadata": {},
     "output_type": "execute_result"
    }
   ],
   "source": [
    "df_S.head()"
   ]
  },
  {
   "cell_type": "markdown",
   "metadata": {},
   "source": [
    "First thing to notice is that the library is enormous. Therefore, it is split into several sub-libraries. You can import the whole library, which is not recommended, a sub-library, or a function. "
   ]
  },
  {
   "cell_type": "code",
   "execution_count": 29,
   "metadata": {},
   "outputs": [],
   "source": [
    "import sklearn"
   ]
  },
  {
   "cell_type": "code",
   "execution_count": 30,
   "metadata": {},
   "outputs": [],
   "source": [
    "from sklearn import model_selection"
   ]
  },
  {
   "cell_type": "code",
   "execution_count": 31,
   "metadata": {},
   "outputs": [],
   "source": [
    "from sklearn.model_selection import train_test_split"
   ]
  },
  {
   "cell_type": "markdown",
   "metadata": {},
   "source": [
    "It is generally a good practice to import only the functions you need. This approach also helps to reduce the amount of code you have to type. Compare below: "
   ]
  },
  {
   "cell_type": "code",
   "execution_count": 32,
   "metadata": {},
   "outputs": [],
   "source": [
    "#if you imported a library with 'import sklearn'\n",
    "split_long = sklearn.model_selection.train_test_split(np.array(np.random.choice(1000, 220)))"
   ]
  },
  {
   "cell_type": "code",
   "execution_count": 33,
   "metadata": {},
   "outputs": [],
   "source": [
    "#if you imported a function with 'from sklearn.model_selection import train_test_split'\n",
    "split_short = train_test_split(np.array(np.random.choice(1000, 220)))"
   ]
  },
  {
   "cell_type": "markdown",
   "metadata": {},
   "source": [
    "Now import the clean version of Kickstarter dataset and create a train-test split of the data. Your dependent variable is *state*. Your independent variables are *goal* and *backers*. Train-test split is *70/30*. Set random state to *22*. Assign the output of the function to 4 variables (the logic is the same as when you called **sample_dfs()** function above). Let the variable names be *X_train*, *X_test*, *y_train*, and *y_test*. Explore the output, make sure it makes sense to you in terms of dimensions, dependent and independent variables. Are the means of *goal*, and *backers* is train and test sets comparable?"
   ]
  },
  {
   "cell_type": "code",
   "execution_count": 44,
   "metadata": {},
   "outputs": [],
   "source": [
    "data2 = pd.read_csv('/Users/nick/github/hugo/python basics/data_cleaning/kickstarter_clean.csv')"
   ]
  },
  {
   "cell_type": "code",
   "execution_count": 90,
   "metadata": {
    "scrolled": true
   },
   "outputs": [],
   "source": [
    "X_train, X_test, Y_train, Y_test = train_test_split(data2.loc[:, ['goal', 'backers']], \n",
    "                                                    data2.loc[:, ['state']], \n",
    "                                                    test_size = 0.3, \n",
    "                                                    random_state = 22)"
   ]
  },
  {
   "cell_type": "code",
   "execution_count": 91,
   "metadata": {},
   "outputs": [
    {
     "data": {
      "text/plain": [
       "(         goal  backers\n",
       " 1335  25350.0      3.0\n",
       " 301    5000.0    110.0\n",
       " 108    1800.0      1.0\n",
       " 975    2000.0     65.0\n",
       " 1023   3000.0     68.0\n",
       " ...       ...      ...\n",
       " 356     599.0      3.0\n",
       " 960    1000.0      5.0\n",
       " 812   10000.0      4.0\n",
       " 132    3500.0     75.0\n",
       " 885   25000.0      0.0\n",
       " \n",
       " [1400 rows x 2 columns],\n",
       "              goal     backers\n",
       " 1201  23805.09873   93.723718\n",
       " 905   23805.09873   93.723718\n",
       " 1978  23805.09873   93.723718\n",
       " 1296  23805.09873   93.723718\n",
       " 1752  23805.09873   93.723718\n",
       " ...           ...         ...\n",
       " 666     200.00000    0.000000\n",
       " 384   10000.00000  191.000000\n",
       " 663    7500.00000   95.000000\n",
       " 1852    250.00000    1.000000\n",
       " 71     2000.00000   28.000000\n",
       " \n",
       " [600 rows x 2 columns],\n",
       "            state\n",
       " 1335      failed\n",
       " 301   successful\n",
       " 108       failed\n",
       " 975   successful\n",
       " 1023  successful\n",
       " ...          ...\n",
       " 356       failed\n",
       " 960       failed\n",
       " 812       failed\n",
       " 132   successful\n",
       " 885         live\n",
       " \n",
       " [1400 rows x 1 columns],\n",
       "            state\n",
       " 1201      failed\n",
       " 905       failed\n",
       " 1978  successful\n",
       " 1296      failed\n",
       " 1752      failed\n",
       " ...          ...\n",
       " 666       failed\n",
       " 384   successful\n",
       " 663   successful\n",
       " 1852      failed\n",
       " 71        failed\n",
       " \n",
       " [600 rows x 1 columns])"
      ]
     },
     "execution_count": 91,
     "metadata": {},
     "output_type": "execute_result"
    }
   ],
   "source": [
    "X_train, X_test, Y_train, Y_test"
   ]
  },
  {
   "cell_type": "code",
   "execution_count": 92,
   "metadata": {},
   "outputs": [
    {
     "data": {
      "text/html": [
       "<div>\n",
       "<style scoped>\n",
       "    .dataframe tbody tr th:only-of-type {\n",
       "        vertical-align: middle;\n",
       "    }\n",
       "\n",
       "    .dataframe tbody tr th {\n",
       "        vertical-align: top;\n",
       "    }\n",
       "\n",
       "    .dataframe thead th {\n",
       "        text-align: right;\n",
       "    }\n",
       "</style>\n",
       "<table border=\"1\" class=\"dataframe\">\n",
       "  <thead>\n",
       "    <tr style=\"text-align: right;\">\n",
       "      <th></th>\n",
       "      <th>goal</th>\n",
       "      <th>backers</th>\n",
       "    </tr>\n",
       "  </thead>\n",
       "  <tbody>\n",
       "    <tr>\n",
       "      <th>1335</th>\n",
       "      <td>25350.0</td>\n",
       "      <td>3.0</td>\n",
       "    </tr>\n",
       "    <tr>\n",
       "      <th>301</th>\n",
       "      <td>5000.0</td>\n",
       "      <td>110.0</td>\n",
       "    </tr>\n",
       "    <tr>\n",
       "      <th>108</th>\n",
       "      <td>1800.0</td>\n",
       "      <td>1.0</td>\n",
       "    </tr>\n",
       "    <tr>\n",
       "      <th>975</th>\n",
       "      <td>2000.0</td>\n",
       "      <td>65.0</td>\n",
       "    </tr>\n",
       "    <tr>\n",
       "      <th>1023</th>\n",
       "      <td>3000.0</td>\n",
       "      <td>68.0</td>\n",
       "    </tr>\n",
       "  </tbody>\n",
       "</table>\n",
       "</div>"
      ],
      "text/plain": [
       "         goal  backers\n",
       "1335  25350.0      3.0\n",
       "301    5000.0    110.0\n",
       "108    1800.0      1.0\n",
       "975    2000.0     65.0\n",
       "1023   3000.0     68.0"
      ]
     },
     "execution_count": 92,
     "metadata": {},
     "output_type": "execute_result"
    }
   ],
   "source": [
    "X_train.head()"
   ]
  },
  {
   "cell_type": "code",
   "execution_count": 77,
   "metadata": {},
   "outputs": [
    {
     "data": {
      "text/plain": [
       "(1500, 1)"
      ]
     },
     "execution_count": 77,
     "metadata": {},
     "output_type": "execute_result"
    }
   ],
   "source": [
    "Y_train"
   ]
  },
  {
   "cell_type": "code",
   "execution_count": null,
   "metadata": {},
   "outputs": [],
   "source": [
    "#YOUR CODE GOES HERE"
   ]
  },
  {
   "cell_type": "code",
   "execution_count": null,
   "metadata": {},
   "outputs": [],
   "source": [
    "#YOUR CODE GOES HERE"
   ]
  },
  {
   "cell_type": "code",
   "execution_count": null,
   "metadata": {},
   "outputs": [],
   "source": [
    "#YOUR CODE GOES HERE"
   ]
  }
 ],
 "metadata": {
  "kernelspec": {
   "display_name": "Python 3",
   "language": "python",
   "name": "python3"
  },
  "language_info": {
   "codemirror_mode": {
    "name": "ipython",
    "version": 3
   },
   "file_extension": ".py",
   "mimetype": "text/x-python",
   "name": "python",
   "nbconvert_exporter": "python",
   "pygments_lexer": "ipython3",
   "version": "3.7.6"
  }
 },
 "nbformat": 4,
 "nbformat_minor": 4
}
